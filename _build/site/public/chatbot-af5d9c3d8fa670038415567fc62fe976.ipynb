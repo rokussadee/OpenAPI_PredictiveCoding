{
 "cells": [
  {
   "cell_type": "markdown",
   "source": [
    "# metacognitive prompting"
   ],
   "metadata": {
    "collapsed": false
   },
   "id": "f6417cefb464c8"
  },
  {
   "cell_type": "markdown",
   "source": [
    "### import statements"
   ],
   "metadata": {
    "collapsed": false
   },
   "id": "fad2b044cb776d82"
  },
  {
   "cell_type": "code",
   "execution_count": 37,
   "id": "initial_id",
   "metadata": {
    "ExecuteTime": {
     "end_time": "2024-02-21T12:42:13.008997Z",
     "start_time": "2024-02-21T12:42:12.960807Z"
    }
   },
   "outputs": [],
   "source": [
    "from openai import OpenAI\n",
    "from dotenv import load_dotenv\n",
    "from ipywidgets import widgets, Output\n",
    "from IPython.display import display\n",
    "import os\n",
    "import threading"
   ]
  },
  {
   "cell_type": "code",
   "execution_count": 38,
   "id": "31af96c665c3effe",
   "metadata": {
    "collapsed": false,
    "ExecuteTime": {
     "end_time": "2024-02-21T12:42:13.031896Z",
     "start_time": "2024-02-21T12:42:13.014508Z"
    }
   },
   "outputs": [],
   "source": [
    "load_dotenv()\n",
    "text_input=\"\"\n",
    "chat_history = {\n",
    "    \n",
    "}\n",
    "chat_output=Output()\n",
    "active = True\n",
    "processing_message = threading.Event()"
   ]
  },
  {
   "cell_type": "code",
   "execution_count": 39,
   "id": "3671f7e011d4313d",
   "metadata": {
    "collapsed": false,
    "ExecuteTime": {
     "end_time": "2024-02-21T12:42:13.135897Z",
     "start_time": "2024-02-21T12:42:13.029401Z"
    }
   },
   "outputs": [
    {
     "name": "stdout",
     "output_type": "stream",
     "text": [
      "<openai.OpenAI object at 0x107821f40>\n"
     ]
    }
   ],
   "source": [
    "apikey = os.getenv(\"OPENAI_API_KEY\")\n",
    "client = OpenAI(\n",
    "    api_key=apikey\n",
    ")\n",
    "print(client)"
   ]
  },
  {
   "cell_type": "code",
   "execution_count": 40,
   "id": "1e8fb949d9be683f",
   "metadata": {
    "collapsed": false,
    "ExecuteTime": {
     "end_time": "2024-02-21T12:42:13.242283Z",
     "start_time": "2024-02-21T12:42:13.124770Z"
    }
   },
   "outputs": [],
   "source": [
    "def new_chat():\n",
    "    chat_history.clear()"
   ]
  },
  {
   "cell_type": "markdown",
   "id": "467531ede5828974",
   "metadata": {
    "collapsed": false
   },
   "source": [
    ":::{admonition} `stream_chatbot` docs\n",
    ":class: dropdown \n",
    "\n",
    "### `stream_chatbot(message)`\n",
    "\n",
    "This function interacts with the chatbot using stream functionality.\n",
    "\n",
    "**Parameters:**\n",
    "- `message`: The message sent by the user to the chatbot.\n",
    "\n",
    "**Returns:**\n",
    "- None\n",
    "\n",
    "**Functionality:**\n",
    "- Sends the user message to the chatbot.\n",
    "- Receives and prints the response from the chatbot.\n",
    "```"
   ]
  },
  {
   "cell_type": "code",
   "execution_count": 41,
   "id": "41a08f38c9ec7c0",
   "metadata": {
    "collapsed": false,
    "ExecuteTime": {
     "end_time": "2024-02-21T12:42:13.288125Z",
     "start_time": "2024-02-21T12:42:13.135860Z"
    }
   },
   "outputs": [],
   "source": [
    "def stream_chatbot(message):\n",
    "    global chat_output\n",
    "    chat_completion_stream = client.chat.completions.create(\n",
    "        messages=[\n",
    "            {\n",
    "                \"role\":\"user\",\n",
    "                \"content\":message,\n",
    "             },\n",
    "        ],\n",
    "        model=\"gpt-3.5-turbo\",\n",
    "        stream=True\n",
    "    )\n",
    "    print(chat_completion_stream)\n",
    "    for chunk in chat_completion_stream:\n",
    "        if chunk.choices[0].delta.content is not None:\n",
    "            chat_output.append_stdout(f\"{chunk.choices[0].delta.content}\")\n",
    "    chat_output.append_stdout(f\"\\n\")"
   ]
  },
  {
   "cell_type": "markdown",
   "id": "4fd6e287208487a6",
   "metadata": {
    "collapsed": false
   },
   "source": [
    ":::{admonition} `prompt_user` docs\n",
    ":class: dropdown\n",
    "\n",
    "### `prompt_user()`\n",
    "\n",
    "This function prompts the user for input.\n",
    "\n",
    "**Parameters:**\n",
    "- None\n",
    "\n",
    "**Returns:**\n",
    "- `user_input`: The input provided by the user.\n",
    "\n",
    "**Functionality:**\n",
    "- Displays a prompt for the user to input a message.\n",
    "- Returns the user's input."
   ]
  },
  {
   "cell_type": "code",
   "execution_count": 42,
   "id": "ba176ab590f1fa77",
   "metadata": {
    "collapsed": false,
    "ExecuteTime": {
     "end_time": "2024-02-21T12:42:13.325825Z",
     "start_time": "2024-02-21T12:42:13.152057Z"
    }
   },
   "outputs": [],
   "source": [
    "def prompt_user():\n",
    "    user_input = input(\"You: \")\n",
    "    return user_input"
   ]
  },
  {
   "cell_type": "markdown",
   "id": "c831edf003d3d918",
   "metadata": {
    "collapsed": false
   },
   "source": [
    ":::{admonition} `chatbot` docs\n",
    ":class: dropdown\n",
    "\n",
    "### `chatbot(user_message)`\n",
    "\n",
    "This function interacts with the chatbot based on user input.\n",
    "\n",
    "**Parameters:**\n",
    "- `user_message`: The message provided by the user.\n",
    "\n",
    "**Returns:**\n",
    "- None\n",
    "\n",
    "**Functionality:**\n",
    "- Initiates interaction with the chatbot by passing the user's message.\n",
    "- Prints the chatbots response.\n"
   ]
  },
  {
   "cell_type": "code",
   "execution_count": 43,
   "id": "cd47005d64f24adf",
   "metadata": {
    "collapsed": false,
    "ExecuteTime": {
     "end_time": "2024-02-21T12:42:13.355132Z",
     "start_time": "2024-02-21T12:42:13.169658Z"
    }
   },
   "outputs": [],
   "source": [
    "def chatbot(user_message):\n",
    "    global active\n",
    "    global chat_output\n",
    "    processing_message.set()\n",
    "    chat_output.append_stdout(\"Chatbot: \")\n",
    "    if user_message.lower() in [\"bye!\", \"quit\", \"exit\"]:\n",
    "        chat_output.append_stdout(\"BYE\\n\")\n",
    "        active = False\n",
    "    else:\n",
    "        stream_chatbot(user_message)\n",
    "    processing_message.clear()"
   ]
  },
  {
   "cell_type": "markdown",
   "id": "be49a821e373f46e",
   "metadata": {
    "collapsed": false
   },
   "source": [
    ":::{admonition} `print_user_message` docs\n",
    ":class: dropdown\n",
    "\n",
    "### `print_user_message(user_message)`\n",
    "\n",
    "This function prints the user's message.\n",
    "\n",
    "**Parameters:**\n",
    "- `user_message`: The message provided by the user.\n",
    "\n",
    "**Returns:**\n",
    "- None\n",
    "\n",
    "**Functionality:**\n",
    "- Prints the user's message in the format: \"You: [user_message]\".\n"
   ]
  },
  {
   "cell_type": "code",
   "execution_count": 44,
   "id": "3811d02b3a07ed1f",
   "metadata": {
    "collapsed": false,
    "ExecuteTime": {
     "end_time": "2024-02-21T12:42:13.375803Z",
     "start_time": "2024-02-21T12:42:13.180415Z"
    }
   },
   "outputs": [],
   "source": [
    "def print_user_message(user_message):\n",
    "    global chat_output\n",
    "    chat_output.append_stdout(f\"You: {user_message}\\n\")"
   ]
  },
  {
   "cell_type": "code",
   "execution_count": 45,
   "id": "1bba1ee2242c51",
   "metadata": {
    "collapsed": false,
    "ExecuteTime": {
     "end_time": "2024-02-21T12:42:13.377239Z",
     "start_time": "2024-02-21T12:42:13.192034Z"
    }
   },
   "outputs": [],
   "source": [
    "def handle_user_message(user_message):\n",
    "    print_user_message(user_message)\n",
    "    chatbot(user_message)"
   ]
  },
  {
   "cell_type": "code",
   "execution_count": 46,
   "id": "8c08e5b572b1aed3",
   "metadata": {
    "collapsed": false,
    "ExecuteTime": {
     "end_time": "2024-02-21T12:42:13.378859Z",
     "start_time": "2024-02-21T12:42:13.205203Z"
    }
   },
   "outputs": [],
   "source": [
    "def on_submit_button_clicked(b):\n",
    "    if not processing_message.is_set():\n",
    "        handle_user_message(text_input.value)\n",
    "        text_input.value=\"\""
   ]
  },
  {
   "cell_type": "code",
   "execution_count": 47,
   "id": "9e80f3733956d310",
   "metadata": {
    "collapsed": false,
    "ExecuteTime": {
     "end_time": "2024-02-21T12:42:13.380718Z",
     "start_time": "2024-02-21T12:42:13.218523Z"
    }
   },
   "outputs": [],
   "source": [
    "def chat_interface():\n",
    "    global text_input\n",
    "    text_input = widgets.Text(description=\"Your message: \")\n",
    "    submit_button = widgets.Button(description=\"Submit\", disabled=False)\n",
    "    \n",
    "    submit_button.on_click(on_submit_button_clicked)    \n",
    "    \n",
    "    display(chat_output, text_input, submit_button)"
   ]
  },
  {
   "cell_type": "code",
   "execution_count": 49,
   "id": "5483fd9915e11b84",
   "metadata": {
    "collapsed": false,
    "ExecuteTime": {
     "end_time": "2024-02-21T12:44:11.691099Z",
     "start_time": "2024-02-21T12:44:11.620259Z"
    }
   },
   "outputs": [
    {
     "data": {
      "text/plain": "Output()",
      "application/vnd.jupyter.widget-view+json": {
       "version_major": 2,
       "version_minor": 0,
       "model_id": "52e21649e4614214bca0e1a49a0d0de5"
      }
     },
     "metadata": {},
     "output_type": "display_data"
    },
    {
     "data": {
      "text/plain": "Text(value='', description='Your message: ')",
      "application/vnd.jupyter.widget-view+json": {
       "version_major": 2,
       "version_minor": 0,
       "model_id": "68af95adbad546bfb7cb72844235613f"
      }
     },
     "metadata": {},
     "output_type": "display_data"
    },
    {
     "data": {
      "text/plain": "Button(description='Submit', style=ButtonStyle())",
      "application/vnd.jupyter.widget-view+json": {
       "version_major": 2,
       "version_minor": 0,
       "model_id": "8bf58ccaca1c43228c8f0390157a9839"
      }
     },
     "metadata": {},
     "output_type": "display_data"
    }
   ],
   "source": [
    "def main():\n",
    "    new_chat()\n",
    "    chat_interface()\n",
    "\n",
    "if __name__ == \"__main__\": main()"
   ]
  },
  {
   "cell_type": "code",
   "execution_count": 48,
   "id": "cdf0052c-8fae-4c12-9487-9bfc6112c60a",
   "metadata": {
    "ExecuteTime": {
     "end_time": "2024-02-21T12:42:13.518815Z",
     "start_time": "2024-02-21T12:42:13.425122Z"
    }
   },
   "outputs": [],
   "source": []
  }
 ],
 "metadata": {
  "kernelspec": {
   "display_name": "Python 3 (ipykernel)",
   "language": "python",
   "name": "python3"
  },
  "language_info": {
   "codemirror_mode": {
    "name": "ipython",
    "version": 3
   },
   "file_extension": ".py",
   "mimetype": "text/x-python",
   "name": "python",
   "nbconvert_exporter": "python",
   "pygments_lexer": "ipython3",
   "version": "3.12.0"
  }
 },
 "nbformat": 4,
 "nbformat_minor": 5
}
