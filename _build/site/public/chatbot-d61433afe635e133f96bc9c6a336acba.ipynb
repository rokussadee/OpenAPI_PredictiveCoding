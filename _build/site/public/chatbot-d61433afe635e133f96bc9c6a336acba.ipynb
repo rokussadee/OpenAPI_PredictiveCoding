{
 "cells": [
  {
   "cell_type": "markdown",
   "source": [
    "# metacognitive prompting"
   ],
   "metadata": {
    "collapsed": false
   },
   "id": "f6417cefb464c8"
  },
  {
   "cell_type": "markdown",
   "source": [
    "### import statements"
   ],
   "metadata": {
    "collapsed": false
   },
   "id": "fad2b044cb776d82"
  },
  {
   "cell_type": "code",
   "execution_count": 13,
   "id": "initial_id",
   "metadata": {
    "ExecuteTime": {
     "end_time": "2024-02-21T12:14:54.451171Z",
     "start_time": "2024-02-21T12:14:54.350679Z"
    }
   },
   "outputs": [],
   "source": [
    "from openai import OpenAI\n",
    "from dotenv import load_dotenv\n",
    "from ipywidgets import widgets, Output\n",
    "from IPython.display import display\n",
    "import os\n",
    "import threading"
   ]
  },
  {
   "cell_type": "code",
   "execution_count": 14,
   "id": "31af96c665c3effe",
   "metadata": {
    "collapsed": false,
    "ExecuteTime": {
     "end_time": "2024-02-21T12:14:54.505452Z",
     "start_time": "2024-02-21T12:14:54.446509Z"
    }
   },
   "outputs": [],
   "source": [
    "load_dotenv()\n",
    "text_input=\"\"\n",
    "chat_history = {\n",
    "    \n",
    "}\n",
    "chat_output=Output()\n",
    "active = True\n",
    "processing_message = threading.Event()"
   ]
  },
  {
   "cell_type": "code",
   "execution_count": 15,
   "id": "3671f7e011d4313d",
   "metadata": {
    "collapsed": false,
    "ExecuteTime": {
     "end_time": "2024-02-21T12:14:54.776413Z",
     "start_time": "2024-02-21T12:14:54.518639Z"
    }
   },
   "outputs": [
    {
     "name": "stdout",
     "output_type": "stream",
     "text": [
      "<openai.OpenAI object at 0x1077d9b80>\n"
     ]
    }
   ],
   "source": [
    "apikey = os.getenv(\"OPENAI_API_KEY\")\n",
    "client = OpenAI(\n",
    "    api_key=apikey\n",
    ")\n",
    "print(client)"
   ]
  },
  {
   "cell_type": "code",
   "execution_count": 16,
   "id": "1e8fb949d9be683f",
   "metadata": {
    "collapsed": false,
    "ExecuteTime": {
     "end_time": "2024-02-21T12:14:54.876258Z",
     "start_time": "2024-02-21T12:14:54.705869Z"
    }
   },
   "outputs": [],
   "source": [
    "def new_chat():\n",
    "    chat_history.clear()"
   ]
  },
  {
   "cell_type": "markdown",
   "id": "467531ede5828974",
   "metadata": {
    "collapsed": false
   },
   "source": [
    ":::{admonition} ### `stream_chatbot(message)`\n",
    ":class: dropdown\n",
    "\n",
    "This function interacts with the chatbot using stream functionality.\n",
    "\n",
    "**Parameters:**\n",
    "- `message`: The message sent by the user to the chatbot.\n",
    "\n",
    "**Returns:**\n",
    "- None\n",
    "\n",
    "**Functionality:**\n",
    "- Sends the user message to the chatbot.\n",
    "- Receives and prints the response from the chatbot."
   ]
  },
  {
   "cell_type": "code",
   "execution_count": 17,
   "id": "41a08f38c9ec7c0",
   "metadata": {
    "collapsed": false,
    "ExecuteTime": {
     "end_time": "2024-02-21T12:14:54.935426Z",
     "start_time": "2024-02-21T12:14:54.736241Z"
    }
   },
   "outputs": [],
   "source": [
    "def stream_chatbot(message):\n",
    "    global chat_output\n",
    "    chat_completion_stream = client.chat.completions.create(\n",
    "        messages=[\n",
    "            {\n",
    "                \"role\":\"user\",\n",
    "                \"content\":message,\n",
    "             },\n",
    "        ],\n",
    "        model=\"gpt-3.5-turbo\",\n",
    "        stream=True\n",
    "    )\n",
    "    print(chat_completion_stream)\n",
    "    for chunk in chat_completion_stream:\n",
    "        if chunk.choices[0].delta.content is not None:\n",
    "            chat_output.append_stdout(f\"{chunk.choices[0].delta.content}\")\n",
    "    chat_output.append_stdout(f\"\\n\")"
   ]
  },
  {
   "cell_type": "markdown",
   "id": "4fd6e287208487a6",
   "metadata": {
    "collapsed": false
   },
   "source": [
    ":::{admonition} ### `prompt_user()`\n",
    ":class: dropdown\n",
    "This function prompts the user for input.\n",
    "\n",
    "**Parameters:**\n",
    "- None\n",
    "\n",
    "**Returns:**\n",
    "- `user_input`: The input provided by the user.\n",
    "\n",
    "**Functionality:**\n",
    "- Displays a prompt for the user to input a message.\n",
    "- Returns the user's input."
   ]
  },
  {
   "cell_type": "code",
   "execution_count": 18,
   "id": "ba176ab590f1fa77",
   "metadata": {
    "collapsed": false,
    "ExecuteTime": {
     "end_time": "2024-02-21T12:14:54.995002Z",
     "start_time": "2024-02-21T12:14:54.771948Z"
    }
   },
   "outputs": [],
   "source": [
    "def prompt_user():\n",
    "    user_input = input(\"You: \")\n",
    "    return user_input"
   ]
  },
  {
   "cell_type": "markdown",
   "id": "c831edf003d3d918",
   "metadata": {
    "collapsed": false
   },
   "source": [
    ":::{admonition} ### `chatbot(user_message)`\n",
    ":class: dropdown\n",
    "\n",
    "This function interacts with the chatbot based on user input.\n",
    "\n",
    "**Parameters:**\n",
    "- `user_message`: The message provided by the user.\n",
    "\n",
    "**Returns:**\n",
    "- None\n",
    "\n",
    "**Functionality:**\n",
    "- Initiates interaction with the chatbot by passing the user's message.\n",
    "- Prints the chatbots response.\n"
   ]
  },
  {
   "cell_type": "code",
   "execution_count": 19,
   "id": "cd47005d64f24adf",
   "metadata": {
    "collapsed": false,
    "ExecuteTime": {
     "end_time": "2024-02-21T12:14:55.105833Z",
     "start_time": "2024-02-21T12:14:54.989434Z"
    }
   },
   "outputs": [],
   "source": [
    "def chatbot(user_message):\n",
    "    global active\n",
    "    global chat_output\n",
    "    processing_message.set()\n",
    "    chat_output.append_stdout(\"Chatbot: \")\n",
    "    if user_message.lower() in [\"bye!\", \"quit\", \"exit\"]:\n",
    "        chat_output.append_stdout(\"BYE\\n\")\n",
    "        active = False\n",
    "    else:\n",
    "        stream_chatbot(user_message)\n",
    "    processing_message.clear()"
   ]
  },
  {
   "cell_type": "markdown",
   "id": "be49a821e373f46e",
   "metadata": {
    "collapsed": false
   },
   "source": [
    ":::{admonition} ### `print_user_message(user_message)`\n",
    ":class: dropdown\n",
    "\n",
    "This function prints the user's message.\n",
    "\n",
    "**Parameters:**\n",
    "- `user_message`: The message provided by the user.\n",
    "\n",
    "**Returns:**\n",
    "- None\n",
    "\n",
    "**Functionality:**\n",
    "- Prints the user's message in the format: \"You: [user_message]\".\n"
   ]
  },
  {
   "cell_type": "code",
   "execution_count": 20,
   "id": "3811d02b3a07ed1f",
   "metadata": {
    "collapsed": false,
    "ExecuteTime": {
     "end_time": "2024-02-21T12:14:55.229356Z",
     "start_time": "2024-02-21T12:14:55.117233Z"
    }
   },
   "outputs": [],
   "source": [
    "def print_user_message(user_message):\n",
    "    global chat_output\n",
    "    chat_output.append_stdout(f\"You: {user_message}\\n\")"
   ]
  },
  {
   "cell_type": "code",
   "execution_count": 21,
   "id": "1bba1ee2242c51",
   "metadata": {
    "collapsed": false,
    "ExecuteTime": {
     "end_time": "2024-02-21T12:14:55.263870Z",
     "start_time": "2024-02-21T12:14:55.163261Z"
    }
   },
   "outputs": [],
   "source": [
    "def handle_user_message(user_message):\n",
    "    print_user_message(user_message)\n",
    "    chatbot(user_message)"
   ]
  },
  {
   "cell_type": "code",
   "execution_count": 22,
   "id": "8c08e5b572b1aed3",
   "metadata": {
    "collapsed": false,
    "ExecuteTime": {
     "end_time": "2024-02-21T12:14:55.447970Z",
     "start_time": "2024-02-21T12:14:55.253330Z"
    }
   },
   "outputs": [],
   "source": [
    "def on_submit_button_clicked(b):\n",
    "    if not processing_message.is_set():\n",
    "        handle_user_message(text_input.value)\n",
    "        text_input.value=\"\""
   ]
  },
  {
   "cell_type": "code",
   "execution_count": 23,
   "id": "9e80f3733956d310",
   "metadata": {
    "collapsed": false,
    "ExecuteTime": {
     "end_time": "2024-02-21T12:14:55.452310Z",
     "start_time": "2024-02-21T12:14:55.355958Z"
    }
   },
   "outputs": [],
   "source": [
    "def chat_interface():\n",
    "    global text_input\n",
    "    text_input = widgets.Text(description=\"Your message: \")\n",
    "    submit_button = widgets.Button(description=\"Submit\", disabled=False)\n",
    "    \n",
    "    submit_button.on_click(on_submit_button_clicked)    \n",
    "    \n",
    "    display(chat_output, text_input, submit_button)"
   ]
  },
  {
   "cell_type": "code",
   "execution_count": 24,
   "id": "5483fd9915e11b84",
   "metadata": {
    "collapsed": false,
    "ExecuteTime": {
     "end_time": "2024-02-21T12:14:55.796741Z",
     "start_time": "2024-02-21T12:14:55.470428Z"
    }
   },
   "outputs": [
    {
     "data": {
      "text/plain": "Output()",
      "application/vnd.jupyter.widget-view+json": {
       "version_major": 2,
       "version_minor": 0,
       "model_id": "fba2316d0d874435aeabcbb473e35499"
      }
     },
     "metadata": {},
     "output_type": "display_data"
    },
    {
     "data": {
      "text/plain": "Text(value='', description='Your message: ')",
      "application/vnd.jupyter.widget-view+json": {
       "version_major": 2,
       "version_minor": 0,
       "model_id": "8b346ab1f3514ce58b2843c31f5c21ac"
      }
     },
     "metadata": {},
     "output_type": "display_data"
    },
    {
     "data": {
      "text/plain": "Button(description='Submit', style=ButtonStyle())",
      "application/vnd.jupyter.widget-view+json": {
       "version_major": 2,
       "version_minor": 0,
       "model_id": "206c635b26e24c28af6f25b74ee01329"
      }
     },
     "metadata": {},
     "output_type": "display_data"
    }
   ],
   "source": [
    "def main():\n",
    "    new_chat()\n",
    "    chat_interface()\n",
    "\n",
    "if __name__ == \"__main__\": main()"
   ]
  },
  {
   "cell_type": "code",
   "execution_count": 24,
   "id": "cdf0052c-8fae-4c12-9487-9bfc6112c60a",
   "metadata": {
    "ExecuteTime": {
     "end_time": "2024-02-21T12:14:55.821760Z",
     "start_time": "2024-02-21T12:14:55.770141Z"
    }
   },
   "outputs": [],
   "source": []
  }
 ],
 "metadata": {
  "kernelspec": {
   "display_name": "Python 3 (ipykernel)",
   "language": "python",
   "name": "python3"
  },
  "language_info": {
   "codemirror_mode": {
    "name": "ipython",
    "version": 3
   },
   "file_extension": ".py",
   "mimetype": "text/x-python",
   "name": "python",
   "nbconvert_exporter": "python",
   "pygments_lexer": "ipython3",
   "version": "3.12.0"
  }
 },
 "nbformat": 4,
 "nbformat_minor": 5
}
