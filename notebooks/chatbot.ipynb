{
 "cells": [
  {
   "cell_type": "markdown",
   "id": "f6417cefb464c8",
   "metadata": {
    "collapsed": false,
    "jupyter": {
     "outputs_hidden": false
    }
   },
   "source": [
    "# metacognitive prompting"
   ]
  },
  {
   "cell_type": "markdown",
   "id": "fad2b044cb776d82",
   "metadata": {
    "collapsed": false,
    "jupyter": {
     "outputs_hidden": false
    }
   },
   "source": [
    "### import statements"
   ]
  },
  {
   "cell_type": "code",
   "execution_count": 1,
   "id": "821c1a6f599bd74b",
   "metadata": {
    "collapsed": false,
    "jupyter": {
     "outputs_hidden": false
    }
   },
   "outputs": [],
   "source": [
    "%load_ext autoreload\n",
    "%autoreload 2"
   ]
  },
  {
   "cell_type": "code",
   "execution_count": 2,
   "id": "f23e71b46480fd67",
   "metadata": {
    "collapsed": false,
    "jupyter": {
     "outputs_hidden": false
    }
   },
   "outputs": [
    {
     "data": {
      "text/plain": [
       "True"
      ]
     },
     "execution_count": 2,
     "metadata": {},
     "output_type": "execute_result"
    }
   ],
   "source": [
    "import os\n",
    "from dotenv import load_dotenv\n",
    "import sys\n",
    "\n",
    "\n",
    "load_dotenv()"
   ]
  },
  {
   "cell_type": "code",
   "execution_count": 3,
   "id": "272d5984c647973c",
   "metadata": {
    "collapsed": false,
    "jupyter": {
     "outputs_hidden": false
    }
   },
   "outputs": [
    {
     "name": "stdout",
     "output_type": "stream",
     "text": [
      "/Users/admin/rokusdev/Internship/OpenAPI_metacognitivePrompting\n",
      "\n",
      "\n",
      "['/Library/Frameworks/Python.framework/Versions/3.12/lib/python312.zip', '/Library/Frameworks/Python.framework/Versions/3.12/lib/python3.12', '/Library/Frameworks/Python.framework/Versions/3.12/lib/python3.12/lib-dynload', '', '/Users/admin/Library/Caches/pypoetry/virtualenvs/openapi-predictivecoding-ukvfokcZ-py3.12/lib/python3.12/site-packages', '/Users/admin/rokusdev/Internship/OpenAPI_metacognitivePrompting']\n"
     ]
    }
   ],
   "source": [
    "sys.path.append(os.getenv(\"SYS_PATH\"))\n",
    "print(f'{os.getenv(\"SYS_PATH\")}\\n\\n')\n",
    "print(sys.path)"
   ]
  },
  {
   "cell_type": "code",
   "execution_count": 4,
   "id": "initial_id",
   "metadata": {
    "ExecuteTime": {
     "end_time": "2024-02-27T17:53:18.488978Z",
     "start_time": "2024-02-27T17:53:18.445379Z"
    }
   },
   "outputs": [],
   "source": [
    "from openai import OpenAI\n",
    "from dotenv import load_dotenv\n",
    "from ipywidgets import widgets, Output\n",
    "from IPython.display import display\n",
    "import threading\n",
    "\n",
    "from models.user import User\n",
    "from models.chat_message import ChatMessage\n",
    "from models.conversation import Conversation"
   ]
  },
  {
   "cell_type": "code",
   "execution_count": 5,
   "id": "c70a072159264673",
   "metadata": {
    "ExecuteTime": {
     "end_time": "2024-02-27T17:53:18.772581Z",
     "start_time": "2024-02-27T17:53:18.731497Z"
    },
    "collapsed": false,
    "jupyter": {
     "outputs_hidden": false
    }
   },
   "outputs": [],
   "source": [
    "%run ../services/db.py"
   ]
  },
  {
   "cell_type": "code",
   "execution_count": 6,
   "id": "6cd684642d9d3305",
   "metadata": {
    "collapsed": false,
    "jupyter": {
     "outputs_hidden": false
    }
   },
   "outputs": [
    {
     "name": "stdout",
     "output_type": "stream",
     "text": [
      "MongoClient(host=['ac-yqldgbe-shard-00-00.vfkvijy.mongodb.net:27017', 'ac-yqldgbe-shard-00-02.vfkvijy.mongodb.net:27017', 'ac-yqldgbe-shard-00-01.vfkvijy.mongodb.net:27017'], document_class=dict, tz_aware=False, connect=True, retrywrites=True, w='majority', appname='Cluster', tlscafile='../isrgrootx1.pem', authsource='admin', replicaset='atlas-gj1ls4-shard-0', tls=True, server_api=<pymongo.server_api.ServerApi object at 0x106b603b0>, uuidrepresentation=4)\n",
      "<pymongo.command_cursor.CommandCursor object at 0x106da5df0>\n",
      "Pinged your deployment. You successfully connected to MongoDB!\n"
     ]
    }
   ],
   "source": [
    "from services.db import mongo_client, ping_client, set_db, set_collection\n",
    "db_client = mongo_client()\n",
    "ping_client(db_client)"
   ]
  },
  {
   "cell_type": "code",
   "execution_count": 7,
   "id": "31af96c665c3effe",
   "metadata": {
    "collapsed": false,
    "jupyter": {
     "outputs_hidden": false
    }
   },
   "outputs": [],
   "source": [
    "load_dotenv()\n",
    "text_input=\"\"\n",
    "chat_output=Output()\n",
    "active = True\n",
    "processing_message = threading.Event()"
   ]
  },
  {
   "cell_type": "code",
   "execution_count": 8,
   "id": "f6f43941fcbd3196",
   "metadata": {
    "collapsed": false,
    "jupyter": {
     "outputs_hidden": false
    }
   },
   "outputs": [
    {
     "name": "stdout",
     "output_type": "stream",
     "text": [
      "User class instance:\n",
      "{'uid': UUID('d6612dee-075d-461f-b0b1-0b84a945427d'), 'created_at': datetime.datetime(2024, 2, 27, 19, 26, 29, 744047), 'email': 'piet.varanvenzwijn@test.com', 'password': b'$2b$12$auD1FQZI7IBfcnvKcaXlduinCxIfxiAv9KqSddLuInjUtkZQAYD.K'}\n",
      "InsertOneResult(ObjectId('65de29566c923bdfc38c94ee'), acknowledged=True)\n",
      "Saved test user dictionary:\n",
      "65de29566c923bdfc38c94ee\n"
     ]
    }
   ],
   "source": [
    "test_user = User(email=\"piet.varanvenzwijn@test.com\", password=\"secret\")\n",
    "print(f\"User class instance:\\n{test_user.__dict__}\")\n",
    "saved_test_user_id = test_user.save(db_client)\n",
    "print(f\"Saved test user dictionary:\\n{saved_test_user_id}\")"
   ]
  },
  {
   "cell_type": "code",
   "execution_count": 9,
   "id": "9b208f01b8a6b33f",
   "metadata": {
    "collapsed": false,
    "jupyter": {
     "outputs_hidden": false
    }
   },
   "outputs": [
    {
     "name": "stdout",
     "output_type": "stream",
     "text": [
      "Conversation class instance:\n",
      "{'created_at': datetime.datetime(2024, 2, 27, 19, 26, 31, 961021), 'user_uid': UUID('88e83be0-39c0-45df-813f-ba4a0e24726c'), 'user_message_count': 0, 'user_login_count': 0, 'conversation_topics': ['New conversation topic']}\n",
      "InsertOneResult(ObjectId('65de29576c923bdfc38c94ef'), acknowledged=True)\n",
      "Saved test conversation ObjectId:\n",
      "65de29576c923bdfc38c94ef\n"
     ]
    }
   ],
   "source": [
    "test_conversation = Conversation(user_uid='88e83be0-39c0-45df-813f-ba4a0e24726c')\n",
    "print(f\"Conversation class instance:\\n{test_conversation.__dict__}\")\n",
    "saved_test_conversation_id = test_conversation.save(db_client)\n",
    "print(f\"Saved test conversation ObjectId:\\n{saved_test_conversation_id}\")"
   ]
  },
  {
   "cell_type": "code",
   "execution_count": 10,
   "id": "40c88f1053a37824",
   "metadata": {
    "collapsed": false,
    "jupyter": {
     "outputs_hidden": false
    }
   },
   "outputs": [
    {
     "name": "stdout",
     "output_type": "stream",
     "text": [
      "ChatMessage class instance:\n",
      "{'created_at': datetime.datetime(2024, 2, 27, 19, 26, 33, 600132), 'author': 'piet van ravenzwijn', 'content': 'test', 'conversation_id': ObjectId('65de29576c923bdfc38c94ef')}\n",
      "InsertOneResult(ObjectId('65de29596c923bdfc38c94f0'), acknowledged=True)\n",
      "Saved test message ObjectId:\n",
      "65de29596c923bdfc38c94f0\n"
     ]
    }
   ],
   "source": [
    "test_message= ChatMessage(author=\"piet van ravenzwijn\", content=\"test\", conversation_id=saved_test_conversation_id)\n",
    "print(f\"ChatMessage class instance:\\n{test_message.__dict__}\")\n",
    "saved_test_message_id = test_message.save(db_client)\n",
    "print(f\"Saved test message ObjectId:\\n{saved_test_message_id }\")"
   ]
  },
  {
   "cell_type": "code",
   "execution_count": 11,
   "id": "3671f7e011d4313d",
   "metadata": {
    "collapsed": false,
    "jupyter": {
     "outputs_hidden": false
    }
   },
   "outputs": [
    {
     "name": "stdout",
     "output_type": "stream",
     "text": [
      "<openai.OpenAI object at 0x107192060>\n"
     ]
    }
   ],
   "source": [
    "apikey = os.getenv(\"OPENAI_API_KEY\")\n",
    "openai_client = OpenAI(\n",
    "    api_key=apikey\n",
    ")\n",
    "print(openai_client)"
   ]
  },
  {
   "cell_type": "markdown",
   "id": "467531ede5828974",
   "metadata": {
    "collapsed": false,
    "jupyter": {
     "outputs_hidden": false
    }
   },
   "source": [
    ":::{admonition} `stream_chatbot` docs\n",
    ":class: dropdown \n",
    "\n",
    "### `stream_chatbot(message)`\n",
    "\n",
    "This function interacts with the chatbot using stream functionality.\n",
    "\n",
    "**Parameters:**\n",
    "- `message`: The message sent by the user to the chatbot.\n",
    "\n",
    "**Returns:**\n",
    "- None\n",
    "\n",
    "**Functionality:**\n",
    "- Sends the user message to the chatbot.\n",
    "- Receives and prints the response from the chatbot.\n",
    "```"
   ]
  },
  {
   "cell_type": "code",
   "execution_count": 12,
   "id": "41a08f38c9ec7c0",
   "metadata": {
    "collapsed": false,
    "jupyter": {
     "outputs_hidden": false
    }
   },
   "outputs": [],
   "source": [
    "def stream_chatbot(message):\n",
    "    global chat_output\n",
    "    chat_completion_stream = openai_client.chat.completions.create(\n",
    "        messages=[\n",
    "            {\n",
    "                \"role\":\"user\",\n",
    "                \"content\":message,\n",
    "             },\n",
    "        ],\n",
    "        model=\"gpt-3.5-turbo\",\n",
    "        stream=True\n",
    "    )\n",
    "    print(chat_completion_stream)\n",
    "    for chunk in chat_completion_stream:\n",
    "        if chunk.choices[0].delta.content is not None:\n",
    "            chat_output.append_stdout(f\"{chunk.choices[0].delta.content}\")\n",
    "    chat_output.append_stdout(f\"\\n\")"
   ]
  },
  {
   "cell_type": "markdown",
   "id": "4fd6e287208487a6",
   "metadata": {
    "collapsed": false,
    "jupyter": {
     "outputs_hidden": false
    }
   },
   "source": [
    ":::{admonition} `prompt_user` docs\n",
    ":class: dropdown\n",
    "\n",
    "### `prompt_user()`\n",
    "\n",
    "This function prompts the user for input.\n",
    "\n",
    "**Parameters:**\n",
    "- None\n",
    "\n",
    "**Returns:**\n",
    "- `user_input`: The input provided by the user.\n",
    "\n",
    "**Functionality:**\n",
    "- Displays a prompt for the user to input a message.\n",
    "- Returns the user's input."
   ]
  },
  {
   "cell_type": "code",
   "execution_count": 13,
   "id": "ba176ab590f1fa77",
   "metadata": {
    "collapsed": false,
    "jupyter": {
     "outputs_hidden": false
    }
   },
   "outputs": [],
   "source": [
    "def prompt_user():\n",
    "    user_input = input(\"You: \")\n",
    "    return user_input"
   ]
  },
  {
   "cell_type": "markdown",
   "id": "c831edf003d3d918",
   "metadata": {
    "collapsed": false,
    "jupyter": {
     "outputs_hidden": false
    }
   },
   "source": [
    ":::{admonition} `chatbot` docs\n",
    ":class: dropdown\n",
    "\n",
    "### `chatbot(user_message)`\n",
    "\n",
    "This function interacts with the chatbot based on user input.\n",
    "\n",
    "**Parameters:**\n",
    "- `user_message`: The message provided by the user.\n",
    "\n",
    "**Returns:**\n",
    "- None\n",
    "\n",
    "**Functionality:**\n",
    "- Initiates interaction with the chatbot by passing the user's message.\n",
    "- Prints the chatbots response.\n"
   ]
  },
  {
   "cell_type": "code",
   "execution_count": 14,
   "id": "cd47005d64f24adf",
   "metadata": {
    "collapsed": false,
    "jupyter": {
     "outputs_hidden": false
    }
   },
   "outputs": [],
   "source": [
    "def chatbot(user_message):\n",
    "    global active\n",
    "    global chat_output\n",
    "    processing_message.set()\n",
    "    chat_output.append_stdout(\"Chatbot: \")\n",
    "    if user_message.lower() in [\"bye!\", \"quit\", \"exit\"]:\n",
    "        chat_output.append_stdout(\"BYE\\n\")\n",
    "        active = False\n",
    "    else:\n",
    "        stream_chatbot(user_message)\n",
    "    processing_message.clear()"
   ]
  },
  {
   "cell_type": "markdown",
   "id": "be49a821e373f46e",
   "metadata": {
    "collapsed": false,
    "jupyter": {
     "outputs_hidden": false
    }
   },
   "source": [
    ":::{admonition} `print_user_message` docs\n",
    ":class: dropdown\n",
    "\n",
    "### `print_user_message(user_message)`\n",
    "\n",
    "This function prints the user's message.\n",
    "\n",
    "**Parameters:**\n",
    "- `user_message`: The message provided by the user.\n",
    "\n",
    "**Returns:**\n",
    "- None\n",
    "\n",
    "**Functionality:**\n",
    "- Prints the user's message in the format: \"You: [user_message]\".\n"
   ]
  },
  {
   "cell_type": "code",
   "execution_count": 15,
   "id": "3811d02b3a07ed1f",
   "metadata": {
    "collapsed": false,
    "jupyter": {
     "outputs_hidden": false
    }
   },
   "outputs": [],
   "source": [
    "def print_user_message(user_message):\n",
    "    global chat_output\n",
    "    chat_output.append_stdout(f\"You: {user_message}\\n\")"
   ]
  },
  {
   "cell_type": "code",
   "execution_count": 16,
   "id": "1bba1ee2242c51",
   "metadata": {
    "collapsed": false,
    "jupyter": {
     "outputs_hidden": false
    }
   },
   "outputs": [],
   "source": [
    "def handle_user_message(user_message):\n",
    "    print_user_message(user_message)\n",
    "    chatbot(user_message)"
   ]
  },
  {
   "cell_type": "code",
   "execution_count": 17,
   "id": "8c08e5b572b1aed3",
   "metadata": {
    "collapsed": false,
    "jupyter": {
     "outputs_hidden": false
    }
   },
   "outputs": [],
   "source": [
    "def on_submit_button_clicked(b):\n",
    "    if not processing_message.is_set():\n",
    "        handle_user_message(text_input.value)\n",
    "        text_input.value=\"\""
   ]
  },
  {
   "cell_type": "code",
   "execution_count": 18,
   "id": "9e80f3733956d310",
   "metadata": {
    "collapsed": false,
    "jupyter": {
     "outputs_hidden": false
    }
   },
   "outputs": [],
   "source": [
    "def chat_interface():\n",
    "    global text_input\n",
    "    text_input = widgets.Text(description=\"Your message: \")\n",
    "    submit_button = widgets.Button(description=\"Submit\", disabled=False)\n",
    "    \n",
    "    submit_button.on_click(on_submit_button_clicked)    \n",
    "    \n",
    "    display(chat_output, text_input, submit_button)"
   ]
  },
  {
   "cell_type": "code",
   "execution_count": 19,
   "id": "5483fd9915e11b84",
   "metadata": {
    "collapsed": false,
    "jupyter": {
     "outputs_hidden": false
    }
   },
   "outputs": [
    {
     "name": "stdout",
     "output_type": "stream",
     "text": [
      "Conversation class instance:\n",
      "{'created_at': datetime.datetime(2024, 2, 27, 19, 26, 46, 959910), 'user_uid': UUID('88e83be0-39c0-45df-813f-ba4a0e24726c'), 'user_message_count': 0, 'user_login_count': 0, 'conversation_topics': ['New conversation topic']}\n",
      "\n",
      "\n",
      "InsertOneResult(ObjectId('65de29666c923bdfc38c94f1'), acknowledged=True)\n",
      "Saved test conversation ObjectId:\n",
      "65de29666c923bdfc38c94f1\n",
      "\n",
      "\n"
     ]
    },
    {
     "data": {
      "application/vnd.jupyter.widget-view+json": {
       "model_id": "334d133d6021453084cc0842e95a6ff2",
       "version_major": 2,
       "version_minor": 0
      },
      "text/plain": [
       "Output()"
      ]
     },
     "metadata": {},
     "output_type": "display_data"
    },
    {
     "data": {
      "application/vnd.jupyter.widget-view+json": {
       "model_id": "2386c35786474d8d8b9d8dd100d9fd16",
       "version_major": 2,
       "version_minor": 0
      },
      "text/plain": [
       "Text(value='', description='Your message: ')"
      ]
     },
     "metadata": {},
     "output_type": "display_data"
    },
    {
     "data": {
      "application/vnd.jupyter.widget-view+json": {
       "model_id": "fe3fc95c42cd4a8b8510af0695d72da4",
       "version_major": 2,
       "version_minor": 0
      },
      "text/plain": [
       "Button(description='Submit', style=ButtonStyle())"
      ]
     },
     "metadata": {},
     "output_type": "display_data"
    }
   ],
   "source": [
    "def main():\n",
    "    new_conversation = Conversation(user_uid='88e83be0-39c0-45df-813f-ba4a0e24726c')\n",
    "    print(f\"Conversation class instance:\\n{new_conversation .__dict__}\\n\\n\")\n",
    "    saved_new_conversation_id = new_conversation.save(db_client)\n",
    "    print(f\"Saved test conversation ObjectId:\\n{saved_new_conversation_id}\\n\\n\")\n",
    "    chat_interface()\n",
    "\n",
    "if __name__ == \"__main__\": main()"
   ]
  },
  {
   "cell_type": "code",
   "execution_count": null,
   "id": "f66d4a05-d60a-453d-a73e-f615d2fe61a8",
   "metadata": {},
   "outputs": [],
   "source": []
  }
 ],
 "metadata": {
  "kernelspec": {
   "display_name": "Python 3 (ipykernel)",
   "language": "python",
   "name": "python3"
  },
  "language_info": {
   "codemirror_mode": {
    "name": "ipython",
    "version": 3
   },
   "file_extension": ".py",
   "mimetype": "text/x-python",
   "name": "python",
   "nbconvert_exporter": "python",
   "pygments_lexer": "ipython3",
   "version": "3.12.0"
  }
 },
 "nbformat": 4,
 "nbformat_minor": 5
}
