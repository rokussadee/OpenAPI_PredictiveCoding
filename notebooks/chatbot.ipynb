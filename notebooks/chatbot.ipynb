{
 "cells": [
  {
   "cell_type": "code",
   "execution_count": 26,
   "id": "initial_id",
   "metadata": {
    "collapsed": true,
    "jupyter": {
     "outputs_hidden": true
    },
    "ExecuteTime": {
     "end_time": "2024-02-09T14:58:07.231213Z",
     "start_time": "2024-02-09T14:58:07.220314Z"
    }
   },
   "outputs": [],
   "source": [
    "from openai import OpenAI\n",
    "from dotenv import load_dotenv\n",
    "import os"
   ]
  },
  {
   "cell_type": "code",
   "execution_count": 27,
   "id": "31af96c665c3effe",
   "metadata": {
    "collapsed": false,
    "ExecuteTime": {
     "end_time": "2024-02-09T14:58:08.706174Z",
     "start_time": "2024-02-09T14:58:08.687200Z"
    }
   },
   "outputs": [
    {
     "data": {
      "text/plain": "True"
     },
     "execution_count": 27,
     "metadata": {},
     "output_type": "execute_result"
    }
   ],
   "source": [
    "load_dotenv()"
   ]
  },
  {
   "cell_type": "code",
   "outputs": [
    {
     "name": "stdout",
     "output_type": "stream",
     "text": [
      "<openai.OpenAI object at 0x1090e9910>\n"
     ]
    }
   ],
   "source": [
    "apikey = os.getenv(\"OPENAI_API_KEY\")\n",
    "client = OpenAI(\n",
    "    api_key=apikey\n",
    ")\n",
    "print(client)"
   ],
   "metadata": {
    "collapsed": false,
    "ExecuteTime": {
     "end_time": "2024-02-09T14:58:10.050995Z",
     "start_time": "2024-02-09T14:58:09.979925Z"
    }
   },
   "id": "3671f7e011d4313d",
   "execution_count": 28
  },
  {
   "cell_type": "code",
   "outputs": [],
   "source": [
    "def chatbot(message):\n",
    "    chat_completion_stream = client.chat.completions.create(\n",
    "        messages=[\n",
    "            {\"role\":\"user\",\n",
    "             \"content\":message,\n",
    "             },\n",
    "        ],\n",
    "        model=\"gpt-3.5-turbo\",\n",
    "        stream=True\n",
    "    )\n",
    "    for chunk in chat_completion_stream:\n",
    "        if chunk.choices[0].delta.content is not None:\n",
    "            print(chunk.choices[0].delta.content, end=\"\")"
   ],
   "metadata": {
    "collapsed": false,
    "ExecuteTime": {
     "end_time": "2024-02-09T15:20:01.205622Z",
     "start_time": "2024-02-09T15:20:01.197549Z"
    }
   },
   "id": "41a08f38c9ec7c0",
   "execution_count": 43
  },
  {
   "cell_type": "code",
   "outputs": [],
   "source": [
    "def prompt_user():\n",
    "    user_input = input(\"You: \")\n",
    "    return user_input"
   ],
   "metadata": {
    "collapsed": false,
    "ExecuteTime": {
     "end_time": "2024-02-09T15:20:01.490078Z",
     "start_time": "2024-02-09T15:20:01.483135Z"
    }
   },
   "id": "ba176ab590f1fa77",
   "execution_count": 44
  },
  {
   "cell_type": "code",
   "outputs": [],
   "source": [
    "def print_user_message(user_message):\n",
    "    print(\"You: \", user_message)\n",
    "    "
   ],
   "metadata": {
    "collapsed": false,
    "ExecuteTime": {
     "end_time": "2024-02-09T15:20:01.782519Z",
     "start_time": "2024-02-09T15:20:01.775589Z"
    }
   },
   "id": "3811d02b3a07ed1f",
   "execution_count": 45
  },
  {
   "cell_type": "code",
   "outputs": [],
   "source": [
    "def stream_chatbot_response(user_message):\n",
    "    print(\"Chatbot: \")\n",
    "    chatbot(user_message)"
   ],
   "metadata": {
    "collapsed": false,
    "ExecuteTime": {
     "end_time": "2024-02-09T15:20:02.109568Z",
     "start_time": "2024-02-09T15:20:02.100441Z"
    }
   },
   "id": "cd47005d64f24adf",
   "execution_count": 46
  },
  {
   "cell_type": "code",
   "outputs": [
    {
     "name": "stdout",
     "output_type": "stream",
     "text": [
      "You:  \n",
      "Chatbot: \n",
      "World War I, also known as the Great War, was a global conflict that lasted from 1914 to 1918. It involved most of the world's major powers at the time, divided into two opposing alliances: the Allies (including France, Russia, and the United Kingdom) and the Central Powers (including Germany, Austria-Hungary, and the Ottoman Empire).\n",
      "\n",
      "The war began in July 1914 with the assassination of Archduke Franz Ferdinand of Austria-Hungary by a Serbian nationalist. This event triggered a series of diplomatic and military escalations that eventually led to a full-scale war.\n",
      "\n",
      "World War I was characterized by trench warfare, with soldiers on both sides fighting from elaborate systems of trenches and enduring harsh conditions. The war involved significant advances in technology and warfare tactics, including the introduction of machine guns, poison gas, and tanks.\n",
      "The conflict resulted in a tremendous loss of life, with estimates of around 9 million soldiers killed and 21 million wounded. Civilians also suffered greatly, with millions of deaths caused by disease, starvation, and other war-related issues.\n",
      "\n",
      "World War I also had far-reaching political and social consequences. It led to major changes in the global balance of power and contributed to the collapse of several empires, including the Austro-Hungarian, German, Russian, and Ottoman empires. The war also fueled nationalist sentiments and led to the establishment of new nations.\n",
      "\n",
      "The Treaty of Versailles, signed in 1919, officially ended the war and imposed heavy penalties on Germany. This treaty, along with other treaties that followed, contributed to the grievances and conditions that eventually led to World War II.\n",
      "\n",
      "Overall, World War I was a significant turning point in world history, causing immense suffering and shaping the geopolitical landscape of the 20th century."
     ]
    }
   ],
   "source": [
    "prompt = prompt_user()\n",
    "print_user_message(prompt)\n",
    "stream_chatbot_response(prompt)"
   ],
   "metadata": {
    "collapsed": false,
    "ExecuteTime": {
     "end_time": "2024-02-09T15:20:26.582745Z",
     "start_time": "2024-02-09T15:20:06.093045Z"
    }
   },
   "id": "900520e5354c1e84",
   "execution_count": 47
  },
  {
   "cell_type": "code",
   "outputs": [],
   "source": [],
   "metadata": {
    "collapsed": false
   },
   "id": "5483fd9915e11b84"
  }
 ],
 "metadata": {
  "kernelspec": {
   "display_name": "Python 3 (ipykernel)",
   "language": "python",
   "name": "python3"
  },
  "language_info": {
   "codemirror_mode": {
    "name": "ipython",
    "version": 3
   },
   "file_extension": ".py",
   "mimetype": "text/x-python",
   "name": "python",
   "nbconvert_exporter": "python",
   "pygments_lexer": "ipython3",
   "version": "3.12.0"
  }
 },
 "nbformat": 4,
 "nbformat_minor": 5
}
