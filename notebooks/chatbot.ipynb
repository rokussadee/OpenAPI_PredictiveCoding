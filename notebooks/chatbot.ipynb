{
 "cells": [
  {
   "cell_type": "markdown",
   "id": "0",
   "metadata": {},
   "source": [
    "    # metacognitive prompting"
   ]
  },
  {
   "cell_type": "markdown",
   "id": "1",
   "metadata": {},
   "source": [
    "### import statements"
   ]
  },
  {
   "cell_type": "code",
   "execution_count": null,
   "id": "2",
   "metadata": {},
   "outputs": [],
   "source": [
    "%load_ext autoreload\n",
    "%autoreload 2"
   ]
  },
  {
   "cell_type": "code",
   "execution_count": null,
   "id": "3",
   "metadata": {},
   "outputs": [],
   "source": [
    "import os\n",
    "from dotenv import load_dotenv\n",
    "import sys\n",
    "\n",
    "load_dotenv()"
   ]
  },
  {
   "cell_type": "code",
   "execution_count": null,
   "id": "4",
   "metadata": {},
   "outputs": [],
   "source": [
    "sys.path.append(os.getenv(\"SYS_PATH\"))\n",
    "print(f'{os.getenv(\"SYS_PATH\")}\\n\\n')\n",
    "print(sys.path)"
   ]
  },
  {
   "cell_type": "code",
   "execution_count": null,
   "id": "5",
   "metadata": {},
   "outputs": [],
   "source": [
    "from openai import OpenAI\n",
    "from ipywidgets import widgets, Output\n",
    "from IPython.display import display\n",
    "import threading\n",
    "\n",
    "from models.user import create_user\n",
    "from models.chat_message import create_chat_message\n",
    "from models.conversation import create_conversation\n",
    "from models.chatbot_response import create_chatbot_response\n",
    "from models.expectation import create_expectation\n",
    "from models.expectation_revision import create_expectation_revision\n",
    "from models.violation import create_violation\n",
    "\n",
    "from utils.model_operations import create_model, get_model, update_model, delete_model\n",
    "from bson.objectid import ObjectId\n",
    "from typing import Optional"
   ]
  },
  {
   "cell_type": "code",
   "execution_count": null,
   "id": "6",
   "metadata": {},
   "outputs": [],
   "source": [
    "%run ../services/mongo_service.py"
   ]
  },
  {
   "cell_type": "code",
   "execution_count": null,
   "id": "7",
   "metadata": {},
   "outputs": [],
   "source": [
    "from services.mongo_service import mongo_client, ping_client, close_client\n",
    "db_client = mongo_client()\n",
    "ping_client(db_client)"
   ]
  },
  {
   "cell_type": "code",
   "execution_count": null,
   "id": "8",
   "metadata": {},
   "outputs": [],
   "source": [
    "text_input = \"\"\n",
    "set_user = None\n",
    "set_conversation = None\n",
    "chat_output=Output()\n",
    "active = True\n",
    "processing_message = threading.Event()"
   ]
  },
  {
   "cell_type": "code",
   "execution_count": null,
   "id": "9",
   "metadata": {},
   "outputs": [],
   "source": [
    "test_user = create_user(email=\"adelbert.baldemar@gmail.com\", password=\"supersecret\")\n",
    "print(f\"test_user: {test_user}\\nis of type{type(test_user)}\")\n",
    "saved_user_id = create_model(collection_name=\"users\", model_data=test_user, client=db_client)"
   ]
  },
  {
   "cell_type": "code",
   "execution_count": null,
   "id": "10",
   "metadata": {},
   "outputs": [],
   "source": [
    "test_conversation = create_conversation(user_id=saved_user_id)\n",
    "saved_conversation_id = create_model(collection_name=\"conversations\", model_data=test_conversation, client=db_client)"
   ]
  },
  {
   "cell_type": "code",
   "execution_count": null,
   "id": "11",
   "metadata": {},
   "outputs": [],
   "source": [
    "test_expectation = create_expectation(reasoning=\"user is feeling nervous\", user_predictions=[\"Hi Chat\", \"How do I build confidence?\", \"Why does no one like me?\", \"I always feel nervous, help me find a way to calm down.\"], additional_data=[\"23 years old\", \"male\", \"full name is Adelbert Baldemar\", \"highly neurotic personality\", \"passionate about music, mainly contemporary classical composers such as Olivier Messiaen and Alfred Schnittke\"])\n",
    "saved_expectation_id = create_model(collection_name=\"expectations\", model_data=test_expectation, client=db_client)"
   ]
  },
  {
   "cell_type": "code",
   "execution_count": null,
   "id": "12",
   "metadata": {},
   "outputs": [],
   "source": [
    "test_expectation_revision = create_expectation_revision(revised_input_possibilities=[\"Hi Chat, my name is Adelbert Baldemar. I'm a 23-year-old male who's passionate about music, particularly contemporary classical composers like Olivier Messiaen and Alfred Schnittke.\", \"How can I build confidence, considering I'm highly neurotic?\", \"Why do I feel like no one likes me, especially considering my neurotic personality? Is it related to my passion for contemporary classical composers like Olivier Messiaen and Alfred Schnittke?\", \"I often feel nervous, especially in social situations. Can you suggest ways, considering my love for music, to help me calm down? Maybe something related to Messiaen or Schnittke?\"], prediction_error=-0.045, initial_expectation_id=saved_expectation_id)\n",
    "saved_expectation_revision_id = create_model(collection_name=\"expectation_revisions\", model_data=test_expectation_revision, client=db_client)"
   ]
  },
  {
   "cell_type": "code",
   "execution_count": null,
   "id": "13",
   "metadata": {},
   "outputs": [],
   "source": [
    "test_message = create_chat_message(user_id=saved_user_id, content=\"Hi there! I've been exploring new hobbies lately, and I stumbled upon medieval choir music. It's intriguing, and I like the timbre and atmosphere of it, but the harmony behind it is often rather simple. Do you have any recommendations for pieces or composers to listen to that I might find more interesting?\", conversation_id=saved_conversation_id)\n",
    "saved_message_id = create_model(collection_name=\"chat_messages\", model_data=test_message, client=db_client)"
   ]
  },
  {
   "cell_type": "code",
   "execution_count": null,
   "id": "14",
   "metadata": {},
   "outputs": [],
   "source": [
    "test_violation = create_violation(last_llm_response_id=None, expectation_id=saved_expectation_id, voe_thought=\"The user's actual input reflects a curiosity about medieval choir music, which seems unrelated to the predictions generated based on the user's personality traits and interests. While the predictions anticipated inquiries about confidence-building strategies, feelings of being disliked, and methods to calm down in social situations related to contemporary classical composers, the user's input diverges into a different realm of musical exploration. This discrepancy suggests that the user's interests and inquiries may extend beyond the scope of contemporary classical composers like Olivier Messiaen and Alfred Schnittke, as the user's engagement with medieval choir music demonstrates. It highlights the multifaceted nature of human interests and preferences, indicating that individuals may have diverse tastes and curiosities that cannot always be predicted based solely on certain personality traits or hobbies.\")\n",
    "saved_violation_id = create_model(collection_name=\"violations\", model_data=test_violation, client=db_client)"
   ]
  },
  {
   "cell_type": "code",
   "execution_count": null,
   "id": "15",
   "metadata": {},
   "outputs": [],
   "source": [
    "get_model(collection_name=\"users\", model_id=saved_user_id, client=db_client)"
   ]
  },
  {
   "cell_type": "code",
   "execution_count": null,
   "id": "16",
   "metadata": {},
   "outputs": [],
   "source": [
    "def initialize_chat(user_id: ObjectId, conversation_id: Optional[ObjectId] = None):\n",
    "    global set_user, set_conversation\n",
    "    set_user = get_model(collection_name=\"users\", model_id=saved_user_id, client=db_client)\n",
    "    if conversation_id:\n",
    "        set_conversation = get_model(collection_name=\"conversations\", model_id=conversation_id, client=db_client)\n",
    "    else:\n",
    "        new_conversation = create_conversation(user_id=user_id)\n",
    "        conversation_id = create_model(collection_name=\"conversations\", model_data=new_conversation, client=db_client)\n",
    "    set_conversation = get_model(collection_name=\"conversations\", model_id=conversation_id, client=db_client)"
   ]
  },
  {
   "cell_type": "code",
   "execution_count": null,
   "id": "17",
   "metadata": {},
   "outputs": [],
   "source": [
    "apikey = os.getenv(\"OPENAI_API_KEY\")\n",
    "openai_client = OpenAI(\n",
    "    api_key=apikey\n",
    ")\n",
    "print(openai_client)"
   ]
  },
  {
   "cell_type": "markdown",
   "id": "18",
   "metadata": {},
   "source": [
    ":::{admonition} `stream_chatbot` docs\n",
    ":class: dropdown \n",
    "\n",
    "### `stream_chatbot(message)`\n",
    "\n",
    "This function interacts with the chatbot using stream functionality.\n",
    "\n",
    "**Parameters:**\n",
    "- `message`: The message sent by the user to the chatbot.\n",
    "\n",
    "**Returns:**\n",
    "- None\n",
    "\n",
    "**Functionality:**\n",
    "- Sends the user message to the chatbot.\n",
    "- Receives and prints the response from the chatbot.\n",
    "```"
   ]
  },
  {
   "cell_type": "code",
   "execution_count": null,
   "id": "19",
   "metadata": {},
   "outputs": [],
   "source": [
    "def stream_chatbot(message):\n",
    "    global chat_output\n",
    "    chat_completion_stream = openai_client.chat.completions.create(\n",
    "        messages=[\n",
    "            {\n",
    "                \"role\":\"user\",\n",
    "                \"content\":message,\n",
    "             },\n",
    "        ],\n",
    "        model=\"gpt-3.5-turbo\",\n",
    "        stream=True\n",
    "    )\n",
    "    print(chat_completion_stream)\n",
    "    for chunk in chat_completion_stream:\n",
    "        if chunk.choices[0].delta.content is not None:\n",
    "            chat_output.append_stdout(f\"{chunk.choices[0].delta.content}\")\n",
    "    chat_output.append_stdout(f\"\\n\")"
   ]
  },
  {
   "cell_type": "markdown",
   "id": "20",
   "metadata": {},
   "source": [
    ":::{admonition} `chatbot` docs\n",
    ":class: dropdown\n",
    "\n",
    "### `chatbot(user_message)`\n",
    "\n",
    "This function interacts with the chatbot based on user input.\n",
    "\n",
    "**Parameters:**\n",
    "- `user_message`: The message provided by the user.\n",
    "\n",
    "**Returns:**\n",
    "- None\n",
    "\n",
    "**Functionality:**\n",
    "- Initiates interaction with the chatbot by passing the user's message.\n",
    "- Prints the chatbots response.\n"
   ]
  },
  {
   "cell_type": "code",
   "execution_count": null,
   "id": "21",
   "metadata": {},
   "outputs": [],
   "source": [
    "def chatbot(user_message):\n",
    "    global active\n",
    "    global chat_output\n",
    "    processing_message.set()\n",
    "    chat_output.append_stdout(\"Chatbot: \")\n",
    "    if user_message.lower() in [\"bye!\", \"quit\", \"exit\"]:\n",
    "        chat_output.append_stdout(\"BYE\\n\")\n",
    "        active = False\n",
    "    else:\n",
    "        stream_chatbot(user_message)\n",
    "    processing_message.clear()"
   ]
  },
  {
   "cell_type": "markdown",
   "id": "22",
   "metadata": {},
   "source": [
    ":::{admonition} `print_user_message` docs\n",
    ":class: dropdown\n",
    "\n",
    "### `print_user_message(user_message)`\n",
    "\n",
    "This function prints the user's message.\n",
    "\n",
    "**Parameters:**\n",
    "- `user_message`: The message provided by the user.\n",
    "\n",
    "**Returns:**\n",
    "- None\n",
    "\n",
    "**Functionality:**\n",
    "- Prints the user's message in the format: \"You: [user_message]\".\n"
   ]
  },
  {
   "cell_type": "code",
   "execution_count": null,
   "id": "23",
   "metadata": {},
   "outputs": [],
   "source": [
    "def print_user_message(user_message):\n",
    "    global chat_output\n",
    "    chat_output.append_stdout(f\"You: {user_message}\\n\")"
   ]
  },
  {
   "cell_type": "code",
   "execution_count": null,
   "id": "24",
   "metadata": {},
   "outputs": [],
   "source": [
    "def handle_user_message(user_message):\n",
    "    print_user_message(user_message)\n",
    "    chatbot(user_message)"
   ]
  },
  {
   "cell_type": "code",
   "execution_count": null,
   "id": "25",
   "metadata": {},
   "outputs": [],
   "source": [
    "def on_submit_button_clicked(b):\n",
    "    if not processing_message.is_set():\n",
    "        handle_user_message(text_input.value)\n",
    "        text_input.value=\"\""
   ]
  },
  {
   "cell_type": "code",
   "execution_count": null,
   "id": "26",
   "metadata": {},
   "outputs": [],
   "source": [
    "def chat_interface():\n",
    "    global text_input\n",
    "    text_input = widgets.Text(description=\"Your message: \")\n",
    "    submit_button = widgets.Button(description=\"Submit\", disabled=False)\n",
    "    \n",
    "    submit_button.on_click(on_submit_button_clicked)    \n",
    "    \n",
    "    display(chat_output, text_input, submit_button)"
   ]
  },
  {
   "cell_type": "code",
   "execution_count": null,
   "id": "27",
   "metadata": {},
   "outputs": [],
   "source": [
    "def main():\n",
    "    initialize_chat(saved_user_id)\n",
    "    chat_interface()\n",
    "\n",
    "if __name__ == \"__main__\": main()"
   ]
  },
  {
   "cell_type": "code",
   "execution_count": null,
   "id": "28",
   "metadata": {},
   "outputs": [],
   "source": [
    "close_client(client=db_client)"
   ]
  }
 ],
 "metadata": {
  "kernelspec": {
   "display_name": "Python 3 (ipykernel)",
   "language": "python",
   "name": "python3"
  },
  "language_info": {
   "codemirror_mode": {
    "name": "ipython",
    "version": 3
   },
   "file_extension": ".py",
   "mimetype": "text/x-python",
   "name": "python",
   "nbconvert_exporter": "python",
   "pygments_lexer": "ipython3",
   "version": "3.12.0"
  }
 },
 "nbformat": 4,
 "nbformat_minor": 5
}
