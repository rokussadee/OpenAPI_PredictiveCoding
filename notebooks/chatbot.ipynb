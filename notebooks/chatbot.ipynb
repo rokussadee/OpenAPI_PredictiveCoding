{
 "cells": [
  {
   "cell_type": "code",
   "execution_count": 1,
   "id": "initial_id",
   "metadata": {
    "ExecuteTime": {
     "end_time": "2024-02-20T17:04:50.146298Z",
     "start_time": "2024-02-20T17:04:50.135566Z"
    }
   },
   "outputs": [],
   "source": [
    "from openai import OpenAI\n",
    "from dotenv import load_dotenv\n",
    "from ipywidgets import widgets, Output\n",
    "from IPython.display import display\n",
    "import os\n",
    "import threading"
   ]
  },
  {
   "cell_type": "code",
   "execution_count": 2,
   "id": "31af96c665c3effe",
   "metadata": {
    "ExecuteTime": {
     "end_time": "2024-02-20T17:04:50.780601Z",
     "start_time": "2024-02-20T17:04:50.770018Z"
    },
    "collapsed": false
   },
   "outputs": [],
   "source": [
    "load_dotenv()\n",
    "text_input=\"\"\n",
    "chat_output=Output()\n",
    "active = True\n",
    "processing_message = threading.Event()"
   ]
  },
  {
   "cell_type": "code",
   "execution_count": 3,
   "id": "3671f7e011d4313d",
   "metadata": {
    "ExecuteTime": {
     "end_time": "2024-02-20T17:04:51.574805Z",
     "start_time": "2024-02-20T17:04:51.486360Z"
    },
    "collapsed": false
   },
   "outputs": [
    {
     "name": "stdout",
     "output_type": "stream",
     "text": [
      "<openai.OpenAI object at 0x10b2be8a0>\n"
     ]
    }
   ],
   "source": [
    "apikey = os.getenv(\"OPENAI_API_KEY\")\n",
    "client = OpenAI(\n",
    "    api_key=apikey\n",
    ")\n",
    "print(client)"
   ]
  },
  {
   "cell_type": "code",
   "execution_count": 4,
   "id": "1e8fb949d9be683f",
   "metadata": {
    "ExecuteTime": {
     "end_time": "2024-02-20T17:04:52.300226Z",
     "start_time": "2024-02-20T17:04:52.291235Z"
    },
    "collapsed": false
   },
   "outputs": [],
   "source": [
    "def new_chat():\n",
    "    chat_history.clear()"
   ]
  },
  {
   "cell_type": "markdown",
   "id": "467531ede5828974",
   "metadata": {
    "collapsed": false
   },
   "source": [
    "### `stream_chatbot(message)`\n",
    "\n",
    "This function interacts with the chatbot using stream functionality.\n",
    "\n",
    "**Parameters:**\n",
    "- `message`: The message sent by the user to the chatbot.\n",
    "\n",
    "**Returns:**\n",
    "- None\n",
    "\n",
    "**Functionality:**\n",
    "- Sends the user message to the chatbot.\n",
    "- Receives and prints the response from the chatbot."
   ]
  },
  {
   "cell_type": "code",
   "execution_count": 5,
   "id": "41a08f38c9ec7c0",
   "metadata": {
    "ExecuteTime": {
     "end_time": "2024-02-20T17:34:09.698596Z",
     "start_time": "2024-02-20T17:34:09.682197Z"
    },
    "collapsed": false
   },
   "outputs": [],
   "source": [
    "def stream_chatbot(message):\n",
    "    global chat_output\n",
    "    chat_completion_stream = client.chat.completions.create(\n",
    "        messages=[\n",
    "            {\n",
    "                \"role\":\"user\",\n",
    "                \"content\":message,\n",
    "             },\n",
    "        ],\n",
    "        model=\"gpt-3.5-turbo\",\n",
    "        stream=True\n",
    "    )\n",
    "    print(chat_completion_stream)\n",
    "    for chunk in chat_completion_stream:\n",
    "        if chunk.choices[0].delta.content is not None:\n",
    "            chat_output.append_stdout(f\"{chunk.choices[0].delta.content}\")\n",
    "    chat_output.append_stdout(f\"\\n\")"
   ]
  },
  {
   "cell_type": "markdown",
   "id": "4fd6e287208487a6",
   "metadata": {
    "collapsed": false
   },
   "source": [
    "### `prompt_user()`\n",
    "\n",
    "This function prompts the user for input.\n",
    "\n",
    "**Parameters:**\n",
    "- None\n",
    "\n",
    "**Returns:**\n",
    "- `user_input`: The input provided by the user.\n",
    "\n",
    "**Functionality:**\n",
    "- Displays a prompt for the user to input a message.\n",
    "- Returns the user's input."
   ]
  },
  {
   "cell_type": "code",
   "execution_count": 6,
   "id": "ba176ab590f1fa77",
   "metadata": {
    "ExecuteTime": {
     "end_time": "2024-02-20T17:04:56.880338Z",
     "start_time": "2024-02-20T17:04:56.873164Z"
    },
    "collapsed": false
   },
   "outputs": [],
   "source": [
    "def prompt_user():\n",
    "    user_input = input(\"You: \")\n",
    "    return user_input"
   ]
  },
  {
   "cell_type": "markdown",
   "id": "c831edf003d3d918",
   "metadata": {
    "collapsed": false
   },
   "source": [
    "### `chatbot(user_message)`\n",
    "\n",
    "This function interacts with the chatbot based on user input.\n",
    "\n",
    "**Parameters:**\n",
    "- `user_message`: The message provided by the user.\n",
    "\n",
    "**Returns:**\n",
    "- None\n",
    "\n",
    "**Functionality:**\n",
    "- Initiates interaction with the chatbot by passing the user's message.\n",
    "- Prints the chatbots response.\n"
   ]
  },
  {
   "cell_type": "code",
   "execution_count": 7,
   "id": "cd47005d64f24adf",
   "metadata": {
    "ExecuteTime": {
     "end_time": "2024-02-20T17:04:58.687755Z",
     "start_time": "2024-02-20T17:04:58.672509Z"
    },
    "collapsed": false
   },
   "outputs": [],
   "source": [
    "def chatbot(user_message):\n",
    "    global active\n",
    "    global chat_output\n",
    "    processing_message.set()\n",
    "    chat_output.append_stdout(\"Chatbot: \")\n",
    "    if user_message.lower() in [\"bye!\", \"quit\", \"exit\"]:\n",
    "        chat_output.append_stdout(\"BYE\\n\")\n",
    "        active = False\n",
    "    else:\n",
    "        stream_chatbot(user_message)\n",
    "    processing_message.clear()"
   ]
  },
  {
   "cell_type": "markdown",
   "id": "be49a821e373f46e",
   "metadata": {
    "collapsed": false
   },
   "source": [
    "### `print_user_message(user_message)`\n",
    "\n",
    "This function prints the user's message.\n",
    "\n",
    "**Parameters:**\n",
    "- `user_message`: The message provided by the user.\n",
    "\n",
    "**Returns:**\n",
    "- None\n",
    "\n",
    "**Functionality:**\n",
    "- Prints the user's message in the format: \"You: [user_message]\".\n"
   ]
  },
  {
   "cell_type": "code",
   "execution_count": 8,
   "id": "3811d02b3a07ed1f",
   "metadata": {
    "ExecuteTime": {
     "end_time": "2024-02-20T17:05:01.429035Z",
     "start_time": "2024-02-20T17:05:01.424672Z"
    },
    "collapsed": false
   },
   "outputs": [],
   "source": [
    "def print_user_message(user_message):\n",
    "    global chat_output\n",
    "    chat_output.append_stdout(f\"You: {user_message}\\n\")"
   ]
  },
  {
   "cell_type": "code",
   "execution_count": 9,
   "id": "1bba1ee2242c51",
   "metadata": {
    "ExecuteTime": {
     "end_time": "2024-02-20T17:05:02.246464Z",
     "start_time": "2024-02-20T17:05:02.239269Z"
    },
    "collapsed": false
   },
   "outputs": [],
   "source": [
    "def handle_user_message(user_message):\n",
    "    print_user_message(user_message)\n",
    "    chatbot(user_message)"
   ]
  },
  {
   "cell_type": "code",
   "execution_count": 10,
   "id": "8c08e5b572b1aed3",
   "metadata": {
    "ExecuteTime": {
     "end_time": "2024-02-20T17:05:02.799067Z",
     "start_time": "2024-02-20T17:05:02.792131Z"
    },
    "collapsed": false
   },
   "outputs": [],
   "source": [
    "def on_submit_button_clicked(b):\n",
    "    if not processing_message.is_set():\n",
    "        handle_user_message(text_input.value)\n",
    "        text_input.value=\"\""
   ]
  },
  {
   "cell_type": "code",
   "execution_count": 11,
   "id": "9e80f3733956d310",
   "metadata": {
    "ExecuteTime": {
     "end_time": "2024-02-20T17:05:03.564153Z",
     "start_time": "2024-02-20T17:05:03.557559Z"
    },
    "collapsed": false
   },
   "outputs": [],
   "source": [
    "def chat_interface():\n",
    "    global text_input\n",
    "    text_input = widgets.Text(description=\"Your message: \")\n",
    "    submit_button = widgets.Button(description=\"Submit\", disabled=False)\n",
    "    \n",
    "    submit_button.on_click(on_submit_button_clicked)    \n",
    "    \n",
    "    display(chat_output, text_input, submit_button)"
   ]
  },
  {
   "cell_type": "code",
   "execution_count": 12,
   "id": "5483fd9915e11b84",
   "metadata": {
    "ExecuteTime": {
     "end_time": "2024-02-20T17:05:04.711450Z",
     "start_time": "2024-02-20T17:05:04.675731Z"
    },
    "collapsed": false
   },
   "outputs": [
    {
     "data": {
      "application/vnd.jupyter.widget-view+json": {
       "model_id": "c3e5e592c09e437fa11d6dbd9686ea70",
       "version_major": 2,
       "version_minor": 0
      },
      "text/plain": [
       "Output()"
      ]
     },
     "metadata": {},
     "output_type": "display_data"
    },
    {
     "data": {
      "application/vnd.jupyter.widget-view+json": {
       "model_id": "5521e85fd0f949abbe965be90b80b6fe",
       "version_major": 2,
       "version_minor": 0
      },
      "text/plain": [
       "Text(value='', description='Your message: ')"
      ]
     },
     "metadata": {},
     "output_type": "display_data"
    },
    {
     "data": {
      "application/vnd.jupyter.widget-view+json": {
       "model_id": "10524a2412004dcb8d0ee51dc24f0eb9",
       "version_major": 2,
       "version_minor": 0
      },
      "text/plain": [
       "Button(description='Submit', style=ButtonStyle())"
      ]
     },
     "metadata": {},
     "output_type": "display_data"
    }
   ],
   "source": [
    "def main():\n",
    "    new_chat()\n",
    "    chat_interface()\n",
    "\n",
    "if __name__ == \"__main__\": main()"
   ]
  },
  {
   "cell_type": "code",
   "execution_count": null,
   "id": "cdf0052c-8fae-4c12-9487-9bfc6112c60a",
   "metadata": {},
   "outputs": [],
   "source": []
  }
 ],
 "metadata": {
  "kernelspec": {
   "display_name": "Python 3 (ipykernel)",
   "language": "python",
   "name": "python3"
  },
  "language_info": {
   "codemirror_mode": {
    "name": "ipython",
    "version": 3
   },
   "file_extension": ".py",
   "mimetype": "text/x-python",
   "name": "python",
   "nbconvert_exporter": "python",
   "pygments_lexer": "ipython3",
   "version": "3.12.0"
  }
 },
 "nbformat": 4,
 "nbformat_minor": 5
}
