{
 "cells": [
  {
   "cell_type": "markdown",
   "id": "f6417cefb464c8",
   "metadata": {
    "collapsed": false
   },
   "source": [
    "    # metacognitive prompting"
   ]
  },
  {
   "cell_type": "markdown",
   "id": "fad2b044cb776d82",
   "metadata": {
    "collapsed": false
   },
   "source": [
    "### import statements"
   ]
  },
  {
   "cell_type": "code",
   "execution_count": 1,
   "id": "821c1a6f599bd74b",
   "metadata": {
    "collapsed": false,
    "ExecuteTime": {
     "end_time": "2024-03-04T15:47:44.326845Z",
     "start_time": "2024-03-04T15:47:44.300214Z"
    }
   },
   "outputs": [],
   "source": [
    "%load_ext autoreload\n",
    "%autoreload 2"
   ]
  },
  {
   "cell_type": "code",
   "execution_count": 2,
   "id": "f23e71b46480fd67",
   "metadata": {
    "collapsed": false,
    "ExecuteTime": {
     "end_time": "2024-03-04T15:47:46.113712Z",
     "start_time": "2024-03-04T15:47:46.078098Z"
    }
   },
   "outputs": [
    {
     "data": {
      "text/plain": "True"
     },
     "execution_count": 2,
     "metadata": {},
     "output_type": "execute_result"
    }
   ],
   "source": [
    "import os\n",
    "from dotenv import load_dotenv\n",
    "import sys\n",
    "\n",
    "load_dotenv()"
   ]
  },
  {
   "cell_type": "code",
   "execution_count": 3,
   "id": "272d5984c647973c",
   "metadata": {
    "collapsed": false,
    "ExecuteTime": {
     "end_time": "2024-03-04T15:47:47.026066Z",
     "start_time": "2024-03-04T15:47:46.988789Z"
    }
   },
   "outputs": [
    {
     "name": "stdout",
     "output_type": "stream",
     "text": [
      "/Users/admin/rokusdev/Internship/OpenAPI_metacognitivePrompting\n",
      "\n",
      "\n",
      "['/Applications/PyCharm.app/Contents/plugins/python/helpers-pro/jupyter_debug', '/Applications/PyCharm.app/Contents/plugins/python/helpers/pydev', '/Users/admin/rokusdev/Internship/OpenAPI_metacognitivePrompting', '/Library/Frameworks/Python.framework/Versions/3.12/lib/python312.zip', '/Library/Frameworks/Python.framework/Versions/3.12/lib/python3.12', '/Library/Frameworks/Python.framework/Versions/3.12/lib/python3.12/lib-dynload', '', '/Users/admin/Library/Caches/pypoetry/virtualenvs/openapi-predictivecoding-ukvfokcZ-py3.12/lib/python3.12/site-packages', '/Users/admin/rokusdev/Internship/OpenAPI_metacognitivePrompting']\n"
     ]
    }
   ],
   "source": [
    "sys.path.append(os.getenv(\"SYS_PATH\"))\n",
    "print(f'{os.getenv(\"SYS_PATH\")}\\n\\n')\n",
    "print(sys.path)"
   ]
  },
  {
   "cell_type": "code",
   "execution_count": 4,
   "id": "initial_id",
   "metadata": {
    "ExecuteTime": {
     "end_time": "2024-03-04T15:47:48.689381Z",
     "start_time": "2024-03-04T15:47:47.522521Z"
    }
   },
   "outputs": [],
   "source": [
    "from openai import OpenAI\n",
    "from dotenv import load_dotenv\n",
    "from ipywidgets import widgets, Output\n",
    "from IPython.display import display\n",
    "import threading\n",
    "\n",
    "from models.user import create_user\n",
    "from models.chat_message import create_chat_message\n",
    "from models.conversation import create_conversation\n",
    "from models.chatbot_response import create_chatbot_response\n",
    "from models.expectation import create_expectation\n",
    "from models.expectation_revision import create_expectation_revision\n",
    "from models.violation import create_violation\n",
    "\n",
    "from utils.module_operations import create_model, get_model, update_model, delete_model"
   ]
  },
  {
   "cell_type": "code",
   "execution_count": 5,
   "id": "c70a072159264673",
   "metadata": {
    "collapsed": false,
    "ExecuteTime": {
     "end_time": "2024-03-04T15:47:49.440153Z",
     "start_time": "2024-03-04T15:47:49.409942Z"
    }
   },
   "outputs": [],
   "source": [
    "%run ../services/mongo_service.py"
   ]
  },
  {
   "cell_type": "code",
   "execution_count": 6,
   "id": "6cd684642d9d3305",
   "metadata": {
    "collapsed": false,
    "ExecuteTime": {
     "end_time": "2024-03-04T15:47:50.728621Z",
     "start_time": "2024-03-04T15:47:50.631316Z"
    }
   },
   "outputs": [
    {
     "name": "stdout",
     "output_type": "stream",
     "text": [
      "Username: rcm, Password: Ekhtrs%2Ax%2AS%2A%2Ax9ZSL7%7BQ%24esg%40wkxZv%3E7%219w3%23%3FyD%3D%40scfUR%7D%60\n",
      "\n",
      "Connected using a local database\n",
      "\n",
      "mongodb://rcm:Ekhtrs%2Ax%2AS%2A%2Ax9ZSL7%7BQ%24esg%40wkxZv%3E7%219w3%23%3FyD%3D%40scfUR%7D%60@localhost:27017/\n",
      "Client:\n",
      "MongoClient(host=['localhost:27017'], document_class=dict, tz_aware=False, connect=True)\n",
      "\n",
      "Showing databases:\n",
      "\tdatabase: admin\n",
      "\t\tsystem.users\n",
      "\t\tsystem.version\n",
      "\n",
      "\tdatabase: config\n"
     ]
    },
    {
     "data": {
      "text/html": "\n                    <details>\n                        <summary>Permission to access collections in database \"config\" denied.</summary>\n                        <p>not authorized on config to execute command { listCollections: 1, cursor: {}, nameOnly: true, lsid: { id: UUID(\"0b56e3e4-5fa1-46c8-bd20-420e82eb2a69\") }, $db: \"config\" }, full error: {'ok': 0.0, 'errmsg': 'not authorized on config to execute command { listCollections: 1, cursor: {}, nameOnly: true, lsid: { id: UUID(\"0b56e3e4-5fa1-46c8-bd20-420e82eb2a69\") }, $db: \"config\" }', 'code': 13, 'codeName': 'Unauthorized'}</p>\n                    </details>\n                    "
     },
     "metadata": {},
     "output_type": "display_data"
    },
    {
     "name": "stdout",
     "output_type": "stream",
     "text": [
      "\tdatabase: local\n"
     ]
    },
    {
     "data": {
      "text/html": "\n                    <details>\n                        <summary>Permission to access collections in database \"local\" denied.</summary>\n                        <p>not authorized on local to execute command { listCollections: 1, cursor: {}, nameOnly: true, lsid: { id: UUID(\"0b56e3e4-5fa1-46c8-bd20-420e82eb2a69\") }, $db: \"local\" }, full error: {'ok': 0.0, 'errmsg': 'not authorized on local to execute command { listCollections: 1, cursor: {}, nameOnly: true, lsid: { id: UUID(\"0b56e3e4-5fa1-46c8-bd20-420e82eb2a69\") }, $db: \"local\" }', 'code': 13, 'codeName': 'Unauthorized'}</p>\n                    </details>\n                    "
     },
     "metadata": {},
     "output_type": "display_data"
    },
    {
     "name": "stdout",
     "output_type": "stream",
     "text": [
      "\tdatabase: metacog_test\n",
      "\t\tconversations\n",
      "\t\tusers\n",
      "\t\tchat_messages\n",
      "\n",
      "Pinged your deployment. You successfully connected to MongoDB!\n"
     ]
    }
   ],
   "source": [
    "from services.mongo_service import mongo_client, ping_client, close_client\n",
    "db_client = mongo_client()\n",
    "ping_client(db_client)"
   ]
  },
  {
   "cell_type": "code",
   "execution_count": 7,
   "id": "31af96c665c3effe",
   "metadata": {
    "collapsed": false,
    "ExecuteTime": {
     "end_time": "2024-03-04T15:47:53.777567Z",
     "start_time": "2024-03-04T15:47:53.748002Z"
    }
   },
   "outputs": [],
   "source": [
    "text_input=\"\"\n",
    "chat_output=Output()\n",
    "active = True\n",
    "processing_message = threading.Event()"
   ]
  },
  {
   "cell_type": "code",
   "execution_count": 8,
   "id": "f6f43941fcbd3196",
   "metadata": {
    "collapsed": false,
    "ExecuteTime": {
     "end_time": "2024-03-04T15:47:55.116203Z",
     "start_time": "2024-03-04T15:47:54.791220Z"
    }
   },
   "outputs": [
    {
     "name": "stdout",
     "output_type": "stream",
     "text": [
      "test_user: UserData(created_at=datetime.datetime(2024, 3, 4, 16, 47, 55, 95351), email='adelbert.baldemar@gmail.com', password=b'$2b$12$VUYULyRQX9rw3Idql.ste.71xqU.vh03SxSyoTQ3ApRYQyUJGXR9W')\n",
      "is of type<class 'models.user.UserData'>\n"
     ]
    }
   ],
   "source": [
    "test_user = create_user(email=\"adelbert.baldemar@gmail.com\", password=\"supersecret\")\n",
    "print(f\"test_user: {test_user}\\nis of type{type(test_user)}\")\n",
    "saved_user_id = create_model(collection_name=\"users\", model_data=test_user, client=db_client)"
   ]
  },
  {
   "cell_type": "code",
   "outputs": [],
   "source": [
    "test_conversation = create_conversation(user_uid=saved_user_id)\n",
    "saved_conversation_id = create_model(collection_name=\"conversations\", model_data=test_conversation, client=db_client)"
   ],
   "metadata": {
    "collapsed": false,
    "ExecuteTime": {
     "end_time": "2024-03-04T15:48:14.129400Z",
     "start_time": "2024-03-04T15:48:14.107446Z"
    }
   },
   "id": "bdc242aed88f6c00",
   "execution_count": 9
  },
  {
   "cell_type": "code",
   "execution_count": 10,
   "id": "40c88f1053a37824",
   "metadata": {
    "collapsed": false,
    "ExecuteTime": {
     "end_time": "2024-03-04T15:48:30.295568Z",
     "start_time": "2024-03-04T15:48:30.229321Z"
    }
   },
   "outputs": [],
   "source": [
    "test_expectation = create_expectation(reasoning=\"user is feeling nervous\", user_predictions=[\"Hi Chat\", \"How do I build confidence?\", \"Why does no one like me?\", \"I always feel nervous, help me find a way to calm down.\"], additional_data=[\"23 years old\", \"male\", \"full name is Adelbert Baldemar\", \"highly neurotic personality\", \"passionate about music, mainly contemporary classical composers such as Olivier Messiaen and Alfred Schnittke\"])\n",
    "saved_expectation_id = create_model(collection_name=\"expectations\", model_data=test_expectation, client=db_client)"
   ]
  },
  {
   "cell_type": "code",
   "outputs": [],
   "source": [
    "test_expectation_revision = create_expectation_revision(revised_input_possibilities=[\"Hi Chat, my name is Adelbert Baldemar. I'm a 23-year-old male who's passionate about music, particularly contemporary classical composers like Olivier Messiaen and Alfred Schnittke.\", \"How can I build confidence, considering I'm highly neurotic?\", \"Why do I feel like no one likes me, especially considering my neurotic personality? Is it related to my passion for contemporary classical composers like Olivier Messiaen and Alfred Schnittke?\", \"I often feel nervous, especially in social situations. Can you suggest ways, considering my love for music, to help me calm down? Maybe something related to Messiaen or Schnittke?\"], prediction_error=-0.045, initial_expectation_id=saved_expectation_id)\n",
    "saved_expectation_revision_id = create_model(collection_name=\"expectation_revisions\", model_data=test_expectation_revision, client=db_client)"
   ],
   "metadata": {
    "collapsed": false,
    "ExecuteTime": {
     "end_time": "2024-03-04T15:49:22.056517Z",
     "start_time": "2024-03-04T15:49:21.970565Z"
    }
   },
   "id": "a27712dd28371517",
   "execution_count": 12
  },
  {
   "cell_type": "code",
   "outputs": [],
   "source": [
    "test_message = create_chat_message(user_id=saved_user_id, content=\"Hi there! I've been exploring new hobbies lately, and I stumbled upon medieval choir music. It's intriguing, and I like the timbre and atmosphere of it, but the harmony behind it is often rather simple. Do you have any recommendations for pieces or composers to listen to that I might find more interesting?\", conversation_id=saved_conversation_id)\n",
    "saved_message_id = create_model(collection_name=\"chat_messages\", model_data=test_message, client=db_client)"
   ],
   "metadata": {
    "collapsed": false,
    "ExecuteTime": {
     "end_time": "2024-03-04T15:50:46.717038Z",
     "start_time": "2024-03-04T15:50:46.689Z"
    }
   },
   "id": "9b208f01b8a6b33f",
   "execution_count": 14
  },
  {
   "cell_type": "code",
   "outputs": [],
   "source": [
    "test_violation = create_violation(last_llm_response_id=None, expectation_id=saved_expectation_id, voe_thought=\"The user's actual input reflects a curiosity about medieval choir music, which seems unrelated to the predictions generated based on the user's personality traits and interests. While the predictions anticipated inquiries about confidence-building strategies, feelings of being disliked, and methods to calm down in social situations related to contemporary classical composers, the user's input diverges into a different realm of musical exploration. This discrepancy suggests that the user's interests and inquiries may extend beyond the scope of contemporary classical composers like Olivier Messiaen and Alfred Schnittke, as the user's engagement with medieval choir music demonstrates. It highlights the multifaceted nature of human interests and preferences, indicating that individuals may have diverse tastes and curiosities that cannot always be predicted based solely on certain personality traits or hobbies.\")\n",
    "saved_violation_id = create_model(collection_name=\"violations\", model_data=test_violation, client=db_client)"
   ],
   "metadata": {
    "collapsed": false,
    "ExecuteTime": {
     "end_time": "2024-03-04T15:51:32.036077Z",
     "start_time": "2024-03-04T15:51:31.975357Z"
    }
   },
   "id": "2df87fcd81ac3e8c",
   "execution_count": 16
  },
  {
   "cell_type": "code",
   "execution_count": null,
   "id": "3671f7e011d4313d",
   "metadata": {
    "collapsed": false
   },
   "outputs": [],
   "source": [
    "apikey = os.getenv(\"OPENAI_API_KEY\")\n",
    "openai_client = OpenAI(\n",
    "    api_key=apikey\n",
    ")\n",
    "print(openai_client)"
   ]
  },
  {
   "cell_type": "markdown",
   "id": "467531ede5828974",
   "metadata": {
    "collapsed": false
   },
   "source": [
    ":::{admonition} `stream_chatbot` docs\n",
    ":class: dropdown \n",
    "\n",
    "### `stream_chatbot(message)`\n",
    "\n",
    "This function interacts with the chatbot using stream functionality.\n",
    "\n",
    "**Parameters:**\n",
    "- `message`: The message sent by the user to the chatbot.\n",
    "\n",
    "**Returns:**\n",
    "- None\n",
    "\n",
    "**Functionality:**\n",
    "- Sends the user message to the chatbot.\n",
    "- Receives and prints the response from the chatbot.\n",
    "```"
   ]
  },
  {
   "cell_type": "code",
   "execution_count": null,
   "id": "41a08f38c9ec7c0",
   "metadata": {
    "collapsed": false
   },
   "outputs": [],
   "source": [
    "def stream_chatbot(message):\n",
    "    global chat_output\n",
    "    chat_completion_stream = openai_client.chat.completions.create(\n",
    "        messages=[\n",
    "            {\n",
    "                \"role\":\"user\",\n",
    "                \"content\":message,\n",
    "             },\n",
    "        ],\n",
    "        model=\"gpt-3.5-turbo\",\n",
    "        stream=True\n",
    "    )\n",
    "    print(chat_completion_stream)\n",
    "    for chunk in chat_completion_stream:\n",
    "        if chunk.choices[0].delta.content is not None:\n",
    "            chat_output.append_stdout(f\"{chunk.choices[0].delta.content}\")\n",
    "    chat_output.append_stdout(f\"\\n\")"
   ]
  },
  {
   "cell_type": "markdown",
   "id": "4fd6e287208487a6",
   "metadata": {
    "collapsed": false
   },
   "source": [
    ":::{admonition} `prompt_user` docs\n",
    ":class: dropdown\n",
    "\n",
    "### `prompt_user()`\n",
    "\n",
    "This function prompts the user for input.\n",
    "\n",
    "**Parameters:**\n",
    "- None\n",
    "\n",
    "**Returns:**\n",
    "- `user_input`: The input provided by the user.\n",
    "\n",
    "**Functionality:**\n",
    "- Displays a prompt for the user to input a message.\n",
    "- Returns the user's input."
   ]
  },
  {
   "cell_type": "code",
   "execution_count": null,
   "id": "ba176ab590f1fa77",
   "metadata": {
    "collapsed": false
   },
   "outputs": [],
   "source": [
    "def prompt_user():\n",
    "    user_input = input(\"You: \")\n",
    "    return user_input"
   ]
  },
  {
   "cell_type": "markdown",
   "id": "c831edf003d3d918",
   "metadata": {
    "collapsed": false
   },
   "source": [
    ":::{admonition} `chatbot` docs\n",
    ":class: dropdown\n",
    "\n",
    "### `chatbot(user_message)`\n",
    "\n",
    "This function interacts with the chatbot based on user input.\n",
    "\n",
    "**Parameters:**\n",
    "- `user_message`: The message provided by the user.\n",
    "\n",
    "**Returns:**\n",
    "- None\n",
    "\n",
    "**Functionality:**\n",
    "- Initiates interaction with the chatbot by passing the user's message.\n",
    "- Prints the chatbots response.\n"
   ]
  },
  {
   "cell_type": "code",
   "execution_count": null,
   "id": "cd47005d64f24adf",
   "metadata": {
    "collapsed": false
   },
   "outputs": [],
   "source": [
    "def chatbot(user_message):\n",
    "    global active\n",
    "    global chat_output\n",
    "    processing_message.set()\n",
    "    chat_output.append_stdout(\"Chatbot: \")\n",
    "    if user_message.lower() in [\"bye!\", \"quit\", \"exit\"]:\n",
    "        chat_output.append_stdout(\"BYE\\n\")\n",
    "        active = False\n",
    "    else:\n",
    "        stream_chatbot(user_message)\n",
    "    processing_message.clear()"
   ]
  },
  {
   "cell_type": "markdown",
   "id": "be49a821e373f46e",
   "metadata": {
    "collapsed": false
   },
   "source": [
    ":::{admonition} `print_user_message` docs\n",
    ":class: dropdown\n",
    "\n",
    "### `print_user_message(user_message)`\n",
    "\n",
    "This function prints the user's message.\n",
    "\n",
    "**Parameters:**\n",
    "- `user_message`: The message provided by the user.\n",
    "\n",
    "**Returns:**\n",
    "- None\n",
    "\n",
    "**Functionality:**\n",
    "- Prints the user's message in the format: \"You: [user_message]\".\n"
   ]
  },
  {
   "cell_type": "code",
   "execution_count": null,
   "id": "3811d02b3a07ed1f",
   "metadata": {
    "collapsed": false
   },
   "outputs": [],
   "source": [
    "def print_user_message(user_message):\n",
    "    global chat_output\n",
    "    chat_output.append_stdout(f\"You: {user_message}\\n\")"
   ]
  },
  {
   "cell_type": "code",
   "execution_count": null,
   "id": "1bba1ee2242c51",
   "metadata": {
    "collapsed": false
   },
   "outputs": [],
   "source": [
    "def handle_user_message(user_message):\n",
    "    print_user_message(user_message)\n",
    "    chatbot(user_message)"
   ]
  },
  {
   "cell_type": "code",
   "execution_count": null,
   "id": "8c08e5b572b1aed3",
   "metadata": {
    "collapsed": false
   },
   "outputs": [],
   "source": [
    "def on_submit_button_clicked(b):\n",
    "    if not processing_message.is_set():\n",
    "        handle_user_message(text_input.value)\n",
    "        text_input.value=\"\""
   ]
  },
  {
   "cell_type": "code",
   "execution_count": null,
   "id": "9e80f3733956d310",
   "metadata": {
    "collapsed": false
   },
   "outputs": [],
   "source": [
    "def chat_interface():\n",
    "    global text_input\n",
    "    text_input = widgets.Text(description=\"Your message: \")\n",
    "    submit_button = widgets.Button(description=\"Submit\", disabled=False)\n",
    "    \n",
    "    submit_button.on_click(on_submit_button_clicked)    \n",
    "    \n",
    "    display(chat_output, text_input, submit_button)"
   ]
  },
  {
   "cell_type": "code",
   "execution_count": null,
   "id": "5483fd9915e11b84",
   "metadata": {
    "collapsed": false
   },
   "outputs": [],
   "source": [
    "def main():\n",
    "    new_conversation = Conversation(user_uid=saved_test_user_id)\n",
    "    print(f\"Conversation class instance:\\n{new_conversation .__dict__}\\n\\n\")\n",
    "    saved_new_conversation_id = new_conversation.save(db_client)\n",
    "    print(f\"Saved test conversation ObjectId:\\n{saved_new_conversation_id}\\n\\n\")\n",
    "    chat_interface()\n",
    "\n",
    "if __name__ == \"__main__\": main()"
   ]
  },
  {
   "cell_type": "code",
   "execution_count": null,
   "id": "f66d4a05-d60a-453d-a73e-f615d2fe61a8",
   "metadata": {},
   "outputs": [],
   "source": [
    "close_client(client=db_client)"
   ]
  }
 ],
 "metadata": {
  "kernelspec": {
   "display_name": "Python 3 (ipykernel)",
   "language": "python",
   "name": "python3"
  },
  "language_info": {
   "codemirror_mode": {
    "name": "ipython",
    "version": 3
   },
   "file_extension": ".py",
   "mimetype": "text/x-python",
   "name": "python",
   "nbconvert_exporter": "python",
   "pygments_lexer": "ipython3",
   "version": "3.12.0"
  }
 },
 "nbformat": 4,
 "nbformat_minor": 5
}
