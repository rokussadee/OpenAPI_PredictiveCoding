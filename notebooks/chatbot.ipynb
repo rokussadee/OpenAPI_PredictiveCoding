{
 "cells": [
  {
   "cell_type": "code",
   "execution_count": 26,
   "id": "initial_id",
   "metadata": {
    "collapsed": true,
    "jupyter": {
     "outputs_hidden": true
    },
    "ExecuteTime": {
     "end_time": "2024-02-09T14:58:07.231213Z",
     "start_time": "2024-02-09T14:58:07.220314Z"
    }
   },
   "outputs": [],
   "source": [
    "from openai import OpenAI\n",
    "from dotenv import load_dotenv\n",
    "import os"
   ]
  },
  {
   "cell_type": "code",
   "execution_count": 27,
   "id": "31af96c665c3effe",
   "metadata": {
    "collapsed": false,
    "ExecuteTime": {
     "end_time": "2024-02-09T14:58:08.706174Z",
     "start_time": "2024-02-09T14:58:08.687200Z"
    }
   },
   "outputs": [
    {
     "data": {
      "text/plain": "True"
     },
     "execution_count": 27,
     "metadata": {},
     "output_type": "execute_result"
    }
   ],
   "source": [
    "load_dotenv()"
   ]
  },
  {
   "cell_type": "code",
   "outputs": [
    {
     "name": "stdout",
     "output_type": "stream",
     "text": [
      "<openai.OpenAI object at 0x1090e9910>\n"
     ]
    }
   ],
   "source": [
    "apikey = os.getenv(\"OPENAI_API_KEY\")\n",
    "client = OpenAI(\n",
    "    api_key=apikey\n",
    ")\n",
    "print(client)"
   ],
   "metadata": {
    "collapsed": false,
    "ExecuteTime": {
     "end_time": "2024-02-09T14:58:10.050995Z",
     "start_time": "2024-02-09T14:58:09.979925Z"
    }
   },
   "id": "3671f7e011d4313d",
   "execution_count": 28
  },
  {
   "cell_type": "code",
   "outputs": [],
   "source": [
    "def stream_chatbot(message):\n",
    "    chat_completion_stream = client.chat.completions.create(\n",
    "        messages=[\n",
    "            {\"role\":\"user\",\n",
    "             \"content\":message,\n",
    "             },\n",
    "        ],\n",
    "        model=\"gpt-3.5-turbo\",\n",
    "        stream=True\n",
    "    )\n",
    "    for chunk in chat_completion_stream:\n",
    "        if chunk.choices[0].delta.content is not None:\n",
    "            print(chunk.choices[0].delta.content, end=\"\")"
   ],
   "metadata": {
    "collapsed": false,
    "ExecuteTime": {
     "end_time": "2024-02-09T15:42:58.858931Z",
     "start_time": "2024-02-09T15:42:58.847335Z"
    }
   },
   "id": "41a08f38c9ec7c0",
   "execution_count": 48
  },
  {
   "cell_type": "code",
   "outputs": [],
   "source": [
    "def prompt_user():\n",
    "    user_input = input(\"You: \")\n",
    "    return user_input"
   ],
   "metadata": {
    "collapsed": false,
    "ExecuteTime": {
     "end_time": "2024-02-09T15:42:59.812349Z",
     "start_time": "2024-02-09T15:42:59.804133Z"
    }
   },
   "id": "ba176ab590f1fa77",
   "execution_count": 49
  },
  {
   "cell_type": "code",
   "outputs": [],
   "source": [
    "def print_user_message(user_message):\n",
    "    print(\"You: \", user_message)\n",
    "    "
   ],
   "metadata": {
    "collapsed": false,
    "ExecuteTime": {
     "end_time": "2024-02-09T15:43:00.252563Z",
     "start_time": "2024-02-09T15:43:00.245465Z"
    }
   },
   "id": "3811d02b3a07ed1f",
   "execution_count": 50
  },
  {
   "cell_type": "code",
   "outputs": [],
   "source": [
    "def chatbot(user_message):\n",
    "    print(\"Chatbot: \")\n",
    "    stream_chatbot(user_message)"
   ],
   "metadata": {
    "collapsed": false,
    "ExecuteTime": {
     "end_time": "2024-02-09T15:43:00.613445Z",
     "start_time": "2024-02-09T15:43:00.608137Z"
    }
   },
   "id": "cd47005d64f24adf",
   "execution_count": 51
  },
  {
   "cell_type": "code",
   "outputs": [
    {
     "name": "stdout",
     "output_type": "stream",
     "text": [
      "You:  Hiiii, it's me. Akuske!\n",
      "Chatbot: \n",
      "Hello Akuske! How can I assist you today?"
     ]
    }
   ],
   "source": [
    "prompt = prompt_user()\n",
    "print_user_message(prompt)\n",
    "chatbot(prompt)"
   ],
   "metadata": {
    "collapsed": false,
    "ExecuteTime": {
     "end_time": "2024-02-09T15:43:13.839761Z",
     "start_time": "2024-02-09T15:43:01.002092Z"
    }
   },
   "id": "900520e5354c1e84",
   "execution_count": 52
  },
  {
   "cell_type": "code",
   "outputs": [],
   "source": [],
   "metadata": {
    "collapsed": false
   },
   "id": "5483fd9915e11b84"
  }
 ],
 "metadata": {
  "kernelspec": {
   "display_name": "Python 3 (ipykernel)",
   "language": "python",
   "name": "python3"
  },
  "language_info": {
   "codemirror_mode": {
    "name": "ipython",
    "version": 3
   },
   "file_extension": ".py",
   "mimetype": "text/x-python",
   "name": "python",
   "nbconvert_exporter": "python",
   "pygments_lexer": "ipython3",
   "version": "3.12.0"
  }
 },
 "nbformat": 4,
 "nbformat_minor": 5
}
